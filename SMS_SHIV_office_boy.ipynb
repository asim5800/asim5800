{
  "nbformat": 4,
  "nbformat_minor": 0,
  "metadata": {
    "colab": {
      "provenance": [],
      "authorship_tag": "ABX9TyNxVsfvOYruDLeV6ZrkNhiK",
      "include_colab_link": true
    },
    "kernelspec": {
      "name": "python3",
      "display_name": "Python 3"
    },
    "language_info": {
      "name": "python"
    }
  },
  "cells": [
    {
      "cell_type": "markdown",
      "metadata": {
        "id": "view-in-github",
        "colab_type": "text"
      },
      "source": [
        "<a href=\"https://colab.research.google.com/github/asim5800/asim5800/blob/main/SMS_SHIV_office_boy.ipynb\" target=\"_parent\"><img src=\"https://colab.research.google.com/assets/colab-badge.svg\" alt=\"Open In Colab\"/></a>"
      ]
    },
    {
      "cell_type": "code",
      "source": [
        "from google.colab import drive\n",
        "drive.mount('/content/drive')"
      ],
      "metadata": {
        "colab": {
          "base_uri": "https://localhost:8080/"
        },
        "id": "U9PpxhJ7ZU_e",
        "outputId": "45f925e4-3b3d-4be9-c265-3b59550c64b3"
      },
      "execution_count": 183,
      "outputs": [
        {
          "output_type": "stream",
          "name": "stdout",
          "text": [
            "Drive already mounted at /content/drive; to attempt to forcibly remount, call drive.mount(\"/content/drive\", force_remount=True).\n"
          ]
        }
      ]
    },
    {
      "cell_type": "code",
      "source": [
        "import pandas as pd\n",
        "import matplotlib.pyplot as plt\n",
        "\n",
        "# Read JSON file into a pandas DataFrame\n",
        "data = pd.read_json('/content/drive/MyDrive/ACESS DATA/APP REVIEWS/sms-2023-05-26_15-29-44.json')\n",
        "\n",
        "# Print the DataFrame\n",
        "print(data)\n"
      ],
      "metadata": {
        "id": "qz_qcTcCZVhP",
        "colab": {
          "base_uri": "https://localhost:8080/"
        },
        "outputId": "95095ac3-f022-44eb-d7d5-916ed30a58ae"
      },
      "execution_count": 184,
      "outputs": [
        {
          "output_type": "stream",
          "name": "stdout",
          "text": [
            "      _id    address                                               body  \\\n",
            "0    3749  JD-BLAPPL  Dear ROHIT,\\n2992 is your mobile verification ...   \n",
            "1    3665     FLPKRT  Dear Customer, Complete your Flipkart Pay Late...   \n",
            "2    3671     FLPKRT  Dear Customer, You're Pre-Approved for Credit ...   \n",
            "3    3748     FLPKRT  Dear Customer, Complete your Flipkart Pay Late...   \n",
            "4    3747  JM-BOBTXN  Rs.11 transferred from A/c ...2098 to:UPI/3146...   \n",
            "..    ...        ...                                                ...   \n",
            "247   476  AX-KVSSMS  Dear MACK,We have received your application. Y...   \n",
            "248   520  AX-KVSSMS  Dear user, OTP for application form cancellati...   \n",
            "249   521  AX-KVSSMS  Your KVS OLA application with application subm...   \n",
            "250   522  AX-KVSSMS  Dear user, OTP for application form submission...   \n",
            "251   523  AX-KVSSMS  Dear MACK,We have received your application. Y...   \n",
            "\n",
            "                       date  errorCode  locked messageDirection messageType  \\\n",
            "0   2023-05-26 09:11:47.302          0       0         INCOMING         SMS   \n",
            "1   2023-05-13 11:34:12.758          0       0         INCOMING         SMS   \n",
            "2   2023-05-14 11:49:02.207          0       0         INCOMING         SMS   \n",
            "3   2023-05-26 08:23:30.220          0       0         INCOMING         SMS   \n",
            "4   2023-05-26 06:13:45.486          0       0         INCOMING         SMS   \n",
            "..                      ...        ...     ...              ...         ...   \n",
            "247 2021-04-02 05:49:51.822          0       0         INCOMING         SMS   \n",
            "248 2021-04-13 11:59:10.206          0       0         INCOMING         SMS   \n",
            "249 2021-04-13 11:59:30.430          0       0         INCOMING         SMS   \n",
            "250 2021-04-13 12:18:52.208          0       0         INCOMING         SMS   \n",
            "251 2021-04-13 12:19:08.195          0       0         INCOMING         SMS   \n",
            "\n",
            "     protocol  read  replyPathPresent  seen  serviceCenter  status  \\\n",
            "0         0.0     1               0.0     1   9.170111e+11      -1   \n",
            "1         0.0     1               0.0     1   0.000000e+00      -1   \n",
            "2         0.0     1               0.0     1   0.000000e+00      -1   \n",
            "3         0.0     1               0.0     1   0.000000e+00      -1   \n",
            "4         0.0     1               0.0     1   9.170211e+11      -1   \n",
            "..        ...   ...               ...   ...            ...     ...   \n",
            "247       0.0     1               0.0     1   9.198101e+11      -1   \n",
            "248       0.0     1               0.0     1   9.198101e+11      -1   \n",
            "249       0.0     1               0.0     1   9.198101e+11      -1   \n",
            "250       0.0     1               0.0     1   9.198101e+11      -1   \n",
            "251       0.0     1               0.0     1   9.198101e+11      -1   \n",
            "\n",
            "                                                  text  threadId  type  \n",
            "0    Dear ROHIT,\\n2992 is your mobile verification ...      1016     1  \n",
            "1    Dear Customer, Complete your Flipkart Pay Late...       988     1  \n",
            "2    Dear Customer, You're Pre-Approved for Credit ...       988     1  \n",
            "3    Dear Customer, Complete your Flipkart Pay Late...       988     1  \n",
            "4    Rs.11 transferred from A/c ...2098 to:UPI/3146...      1015     1  \n",
            "..                                                 ...       ...   ...  \n",
            "247  Dear MACK,We have received your application. Y...       135     1  \n",
            "248  Dear user, OTP for application form cancellati...       135     1  \n",
            "249  Your KVS OLA application with application subm...       135     1  \n",
            "250  Dear user, OTP for application form submission...       135     1  \n",
            "251  Dear MACK,We have received your application. Y...       135     1  \n",
            "\n",
            "[252 rows x 17 columns]\n"
          ]
        }
      ]
    },
    {
      "cell_type": "code",
      "source": [
        "data = data.apply(lambda x: x.astype(str).str.lower())\n"
      ],
      "metadata": {
        "id": "AGCoJTZQMUU3"
      },
      "execution_count": 185,
      "outputs": []
    },
    {
      "cell_type": "code",
      "source": [
        "data.head()"
      ],
      "metadata": {
        "colab": {
          "base_uri": "https://localhost:8080/",
          "height": 634
        },
        "id": "Ga_oC3O8aulo",
        "outputId": "33ccc8a7-1591-41f9-c4bc-1013fd7b4d44"
      },
      "execution_count": 186,
      "outputs": [
        {
          "output_type": "execute_result",
          "data": {
            "text/plain": [
              "    _id    address                                               body  \\\n",
              "0  3749  jd-blappl  dear rohit,\\n2992 is your mobile verification ...   \n",
              "1  3665     flpkrt  dear customer, complete your flipkart pay late...   \n",
              "2  3671     flpkrt  dear customer, you're pre-approved for credit ...   \n",
              "3  3748     flpkrt  dear customer, complete your flipkart pay late...   \n",
              "4  3747  jm-bobtxn  rs.11 transferred from a/c ...2098 to:upi/3146...   \n",
              "\n",
              "                      date errorCode locked messageDirection messageType  \\\n",
              "0  2023-05-26 09:11:47.302         0      0         incoming         sms   \n",
              "1  2023-05-13 11:34:12.758         0      0         incoming         sms   \n",
              "2  2023-05-14 11:49:02.207         0      0         incoming         sms   \n",
              "3  2023-05-26 08:23:30.220         0      0         incoming         sms   \n",
              "4  2023-05-26 06:13:45.486         0      0         incoming         sms   \n",
              "\n",
              "  protocol read replyPathPresent seen   serviceCenter status  \\\n",
              "0      0.0    1              0.0    1  917011075093.0     -1   \n",
              "1      0.0    1              0.0    1             0.0     -1   \n",
              "2      0.0    1              0.0    1             0.0     -1   \n",
              "3      0.0    1              0.0    1             0.0     -1   \n",
              "4      0.0    1              0.0    1  917021075037.0     -1   \n",
              "\n",
              "                                                text threadId type  \n",
              "0  dear rohit,\\n2992 is your mobile verification ...     1016    1  \n",
              "1  dear customer, complete your flipkart pay late...      988    1  \n",
              "2  dear customer, you're pre-approved for credit ...      988    1  \n",
              "3  dear customer, complete your flipkart pay late...      988    1  \n",
              "4  rs.11 transferred from a/c ...2098 to:upi/3146...     1015    1  "
            ],
            "text/html": [
              "\n",
              "  <div id=\"df-a06992ae-8a4d-457f-b7e1-e1956efc2227\">\n",
              "    <div class=\"colab-df-container\">\n",
              "      <div>\n",
              "<style scoped>\n",
              "    .dataframe tbody tr th:only-of-type {\n",
              "        vertical-align: middle;\n",
              "    }\n",
              "\n",
              "    .dataframe tbody tr th {\n",
              "        vertical-align: top;\n",
              "    }\n",
              "\n",
              "    .dataframe thead th {\n",
              "        text-align: right;\n",
              "    }\n",
              "</style>\n",
              "<table border=\"1\" class=\"dataframe\">\n",
              "  <thead>\n",
              "    <tr style=\"text-align: right;\">\n",
              "      <th></th>\n",
              "      <th>_id</th>\n",
              "      <th>address</th>\n",
              "      <th>body</th>\n",
              "      <th>date</th>\n",
              "      <th>errorCode</th>\n",
              "      <th>locked</th>\n",
              "      <th>messageDirection</th>\n",
              "      <th>messageType</th>\n",
              "      <th>protocol</th>\n",
              "      <th>read</th>\n",
              "      <th>replyPathPresent</th>\n",
              "      <th>seen</th>\n",
              "      <th>serviceCenter</th>\n",
              "      <th>status</th>\n",
              "      <th>text</th>\n",
              "      <th>threadId</th>\n",
              "      <th>type</th>\n",
              "    </tr>\n",
              "  </thead>\n",
              "  <tbody>\n",
              "    <tr>\n",
              "      <th>0</th>\n",
              "      <td>3749</td>\n",
              "      <td>jd-blappl</td>\n",
              "      <td>dear rohit,\\n2992 is your mobile verification ...</td>\n",
              "      <td>2023-05-26 09:11:47.302</td>\n",
              "      <td>0</td>\n",
              "      <td>0</td>\n",
              "      <td>incoming</td>\n",
              "      <td>sms</td>\n",
              "      <td>0.0</td>\n",
              "      <td>1</td>\n",
              "      <td>0.0</td>\n",
              "      <td>1</td>\n",
              "      <td>917011075093.0</td>\n",
              "      <td>-1</td>\n",
              "      <td>dear rohit,\\n2992 is your mobile verification ...</td>\n",
              "      <td>1016</td>\n",
              "      <td>1</td>\n",
              "    </tr>\n",
              "    <tr>\n",
              "      <th>1</th>\n",
              "      <td>3665</td>\n",
              "      <td>flpkrt</td>\n",
              "      <td>dear customer, complete your flipkart pay late...</td>\n",
              "      <td>2023-05-13 11:34:12.758</td>\n",
              "      <td>0</td>\n",
              "      <td>0</td>\n",
              "      <td>incoming</td>\n",
              "      <td>sms</td>\n",
              "      <td>0.0</td>\n",
              "      <td>1</td>\n",
              "      <td>0.0</td>\n",
              "      <td>1</td>\n",
              "      <td>0.0</td>\n",
              "      <td>-1</td>\n",
              "      <td>dear customer, complete your flipkart pay late...</td>\n",
              "      <td>988</td>\n",
              "      <td>1</td>\n",
              "    </tr>\n",
              "    <tr>\n",
              "      <th>2</th>\n",
              "      <td>3671</td>\n",
              "      <td>flpkrt</td>\n",
              "      <td>dear customer, you're pre-approved for credit ...</td>\n",
              "      <td>2023-05-14 11:49:02.207</td>\n",
              "      <td>0</td>\n",
              "      <td>0</td>\n",
              "      <td>incoming</td>\n",
              "      <td>sms</td>\n",
              "      <td>0.0</td>\n",
              "      <td>1</td>\n",
              "      <td>0.0</td>\n",
              "      <td>1</td>\n",
              "      <td>0.0</td>\n",
              "      <td>-1</td>\n",
              "      <td>dear customer, you're pre-approved for credit ...</td>\n",
              "      <td>988</td>\n",
              "      <td>1</td>\n",
              "    </tr>\n",
              "    <tr>\n",
              "      <th>3</th>\n",
              "      <td>3748</td>\n",
              "      <td>flpkrt</td>\n",
              "      <td>dear customer, complete your flipkart pay late...</td>\n",
              "      <td>2023-05-26 08:23:30.220</td>\n",
              "      <td>0</td>\n",
              "      <td>0</td>\n",
              "      <td>incoming</td>\n",
              "      <td>sms</td>\n",
              "      <td>0.0</td>\n",
              "      <td>1</td>\n",
              "      <td>0.0</td>\n",
              "      <td>1</td>\n",
              "      <td>0.0</td>\n",
              "      <td>-1</td>\n",
              "      <td>dear customer, complete your flipkart pay late...</td>\n",
              "      <td>988</td>\n",
              "      <td>1</td>\n",
              "    </tr>\n",
              "    <tr>\n",
              "      <th>4</th>\n",
              "      <td>3747</td>\n",
              "      <td>jm-bobtxn</td>\n",
              "      <td>rs.11 transferred from a/c ...2098 to:upi/3146...</td>\n",
              "      <td>2023-05-26 06:13:45.486</td>\n",
              "      <td>0</td>\n",
              "      <td>0</td>\n",
              "      <td>incoming</td>\n",
              "      <td>sms</td>\n",
              "      <td>0.0</td>\n",
              "      <td>1</td>\n",
              "      <td>0.0</td>\n",
              "      <td>1</td>\n",
              "      <td>917021075037.0</td>\n",
              "      <td>-1</td>\n",
              "      <td>rs.11 transferred from a/c ...2098 to:upi/3146...</td>\n",
              "      <td>1015</td>\n",
              "      <td>1</td>\n",
              "    </tr>\n",
              "  </tbody>\n",
              "</table>\n",
              "</div>\n",
              "      <button class=\"colab-df-convert\" onclick=\"convertToInteractive('df-a06992ae-8a4d-457f-b7e1-e1956efc2227')\"\n",
              "              title=\"Convert this dataframe to an interactive table.\"\n",
              "              style=\"display:none;\">\n",
              "        \n",
              "  <svg xmlns=\"http://www.w3.org/2000/svg\" height=\"24px\"viewBox=\"0 0 24 24\"\n",
              "       width=\"24px\">\n",
              "    <path d=\"M0 0h24v24H0V0z\" fill=\"none\"/>\n",
              "    <path d=\"M18.56 5.44l.94 2.06.94-2.06 2.06-.94-2.06-.94-.94-2.06-.94 2.06-2.06.94zm-11 1L8.5 8.5l.94-2.06 2.06-.94-2.06-.94L8.5 2.5l-.94 2.06-2.06.94zm10 10l.94 2.06.94-2.06 2.06-.94-2.06-.94-.94-2.06-.94 2.06-2.06.94z\"/><path d=\"M17.41 7.96l-1.37-1.37c-.4-.4-.92-.59-1.43-.59-.52 0-1.04.2-1.43.59L10.3 9.45l-7.72 7.72c-.78.78-.78 2.05 0 2.83L4 21.41c.39.39.9.59 1.41.59.51 0 1.02-.2 1.41-.59l7.78-7.78 2.81-2.81c.8-.78.8-2.07 0-2.86zM5.41 20L4 18.59l7.72-7.72 1.47 1.35L5.41 20z\"/>\n",
              "  </svg>\n",
              "      </button>\n",
              "      \n",
              "  <style>\n",
              "    .colab-df-container {\n",
              "      display:flex;\n",
              "      flex-wrap:wrap;\n",
              "      gap: 12px;\n",
              "    }\n",
              "\n",
              "    .colab-df-convert {\n",
              "      background-color: #E8F0FE;\n",
              "      border: none;\n",
              "      border-radius: 50%;\n",
              "      cursor: pointer;\n",
              "      display: none;\n",
              "      fill: #1967D2;\n",
              "      height: 32px;\n",
              "      padding: 0 0 0 0;\n",
              "      width: 32px;\n",
              "    }\n",
              "\n",
              "    .colab-df-convert:hover {\n",
              "      background-color: #E2EBFA;\n",
              "      box-shadow: 0px 1px 2px rgba(60, 64, 67, 0.3), 0px 1px 3px 1px rgba(60, 64, 67, 0.15);\n",
              "      fill: #174EA6;\n",
              "    }\n",
              "\n",
              "    [theme=dark] .colab-df-convert {\n",
              "      background-color: #3B4455;\n",
              "      fill: #D2E3FC;\n",
              "    }\n",
              "\n",
              "    [theme=dark] .colab-df-convert:hover {\n",
              "      background-color: #434B5C;\n",
              "      box-shadow: 0px 1px 3px 1px rgba(0, 0, 0, 0.15);\n",
              "      filter: drop-shadow(0px 1px 2px rgba(0, 0, 0, 0.3));\n",
              "      fill: #FFFFFF;\n",
              "    }\n",
              "  </style>\n",
              "\n",
              "      <script>\n",
              "        const buttonEl =\n",
              "          document.querySelector('#df-a06992ae-8a4d-457f-b7e1-e1956efc2227 button.colab-df-convert');\n",
              "        buttonEl.style.display =\n",
              "          google.colab.kernel.accessAllowed ? 'block' : 'none';\n",
              "\n",
              "        async function convertToInteractive(key) {\n",
              "          const element = document.querySelector('#df-a06992ae-8a4d-457f-b7e1-e1956efc2227');\n",
              "          const dataTable =\n",
              "            await google.colab.kernel.invokeFunction('convertToInteractive',\n",
              "                                                     [key], {});\n",
              "          if (!dataTable) return;\n",
              "\n",
              "          const docLinkHtml = 'Like what you see? Visit the ' +\n",
              "            '<a target=\"_blank\" href=https://colab.research.google.com/notebooks/data_table.ipynb>data table notebook</a>'\n",
              "            + ' to learn more about interactive tables.';\n",
              "          element.innerHTML = '';\n",
              "          dataTable['output_type'] = 'display_data';\n",
              "          await google.colab.output.renderOutput(dataTable, element);\n",
              "          const docLink = document.createElement('div');\n",
              "          docLink.innerHTML = docLinkHtml;\n",
              "          element.appendChild(docLink);\n",
              "        }\n",
              "      </script>\n",
              "    </div>\n",
              "  </div>\n",
              "  "
            ]
          },
          "metadata": {},
          "execution_count": 186
        }
      ]
    },
    {
      "cell_type": "code",
      "source": [
        "data.messageDirection.value_counts()"
      ],
      "metadata": {
        "colab": {
          "base_uri": "https://localhost:8080/"
        },
        "id": "rFvOfeUDazVt",
        "outputId": "a65d9990-1447-42ad-8a3f-d94ebb80a7cb"
      },
      "execution_count": 187,
      "outputs": [
        {
          "output_type": "execute_result",
          "data": {
            "text/plain": [
              "incoming    248\n",
              "outgoing      4\n",
              "Name: messageDirection, dtype: int64"
            ]
          },
          "metadata": {},
          "execution_count": 187
        }
      ]
    },
    {
      "cell_type": "code",
      "source": [
        "data.messageType.value_counts()"
      ],
      "metadata": {
        "colab": {
          "base_uri": "https://localhost:8080/"
        },
        "id": "HvzBPZjvbdTd",
        "outputId": "614c3a0b-ac70-4228-c4a5-ba8133fedc71"
      },
      "execution_count": 188,
      "outputs": [
        {
          "output_type": "execute_result",
          "data": {
            "text/plain": [
              "sms    252\n",
              "Name: messageType, dtype: int64"
            ]
          },
          "metadata": {},
          "execution_count": 188
        }
      ]
    },
    {
      "cell_type": "code",
      "source": [
        "data.address.value_counts().head(15)"
      ],
      "metadata": {
        "colab": {
          "base_uri": "https://localhost:8080/"
        },
        "id": "iElYIOGgcF8x",
        "outputId": "d32abd8d-b891-42a8-be05-afbcdde9c536"
      },
      "execution_count": 189,
      "outputs": [
        {
          "output_type": "execute_result",
          "data": {
            "text/plain": [
              "vm-bobtxn    53\n",
              "tm-ecisms    21\n",
              "vm-bsesrp    13\n",
              "ax-indane    11\n",
              "vm-nhpsms     9\n",
              "ax-kvssms     8\n",
              "vd-cmsche     7\n",
              "vk-bsesrp     7\n",
              "vk-vaahan     6\n",
              "vm-rbisay     5\n",
              "ad-ekartl     5\n",
              "121           4\n",
              "vm-kotakb     4\n",
              "bh-vaahan     4\n",
              "ad-indane     4\n",
              "Name: address, dtype: int64"
            ]
          },
          "metadata": {},
          "execution_count": 189
        }
      ]
    },
    {
      "cell_type": "code",
      "source": [
        "data.info()"
      ],
      "metadata": {
        "id": "k28dDTW7cen0",
        "colab": {
          "base_uri": "https://localhost:8080/"
        },
        "outputId": "2e8b422b-b044-404a-cd2a-4ac79912d645"
      },
      "execution_count": 190,
      "outputs": [
        {
          "output_type": "stream",
          "name": "stdout",
          "text": [
            "<class 'pandas.core.frame.DataFrame'>\n",
            "RangeIndex: 252 entries, 0 to 251\n",
            "Data columns (total 17 columns):\n",
            " #   Column            Non-Null Count  Dtype \n",
            "---  ------            --------------  ----- \n",
            " 0   _id               252 non-null    object\n",
            " 1   address           252 non-null    object\n",
            " 2   body              252 non-null    object\n",
            " 3   date              252 non-null    object\n",
            " 4   errorCode         252 non-null    object\n",
            " 5   locked            252 non-null    object\n",
            " 6   messageDirection  252 non-null    object\n",
            " 7   messageType       252 non-null    object\n",
            " 8   protocol          252 non-null    object\n",
            " 9   read              252 non-null    object\n",
            " 10  replyPathPresent  252 non-null    object\n",
            " 11  seen              252 non-null    object\n",
            " 12  serviceCenter     252 non-null    object\n",
            " 13  status            252 non-null    object\n",
            " 14  text              252 non-null    object\n",
            " 15  threadId          252 non-null    object\n",
            " 16  type              252 non-null    object\n",
            "dtypes: object(17)\n",
            "memory usage: 33.6+ KB\n"
          ]
        }
      ]
    },
    {
      "cell_type": "code",
      "source": [
        "print('The sms data is from the timeline of', data.date.min(),'to the date of',data.date.max())"
      ],
      "metadata": {
        "colab": {
          "base_uri": "https://localhost:8080/"
        },
        "id": "VbMKEaxT2Mj1",
        "outputId": "aff9b208-04b8-40d2-c8fb-4dd66e00f0bf"
      },
      "execution_count": 191,
      "outputs": [
        {
          "output_type": "stream",
          "name": "stdout",
          "text": [
            "The sms data is from the timeline of 2021-04-02 05:25:54.091 to the date of 2023-05-26 09:11:47.302\n"
          ]
        }
      ]
    },
    {
      "cell_type": "code",
      "source": [
        "# Filter the DataFrame based on a specific substring\n",
        "substring = 'rs.'\n",
        "filtered_df = data[data['text'].str.contains(substring, case=False)]\n",
        "\n",
        "# Print the filtered DataFrame\n",
        "print(filtered_df)"
      ],
      "metadata": {
        "colab": {
          "base_uri": "https://localhost:8080/"
        },
        "id": "OaThOhwY2zcD",
        "outputId": "aa21e110-e295-4a9f-e482-0b2945d6bfd0"
      },
      "execution_count": 192,
      "outputs": [
        {
          "output_type": "stream",
          "name": "stdout",
          "text": [
            "      _id    address                                               body  \\\n",
            "1    3665     flpkrt  dear customer, complete your flipkart pay late...   \n",
            "2    3671     flpkrt  dear customer, you're pre-approved for credit ...   \n",
            "3    3748     flpkrt  dear customer, complete your flipkart pay late...   \n",
            "4    3747  jm-bobtxn  rs.11 transferred from a/c ...2098 to:upi/3146...   \n",
            "6    3714  vm-kotakb  sent rs.210.00 from kotak bank ac xxxx0884 to ...   \n",
            "..    ...        ...                                                ...   \n",
            "192  2084  vd-bobsms  your vpa 9899235911@ybl linked to your a/c no....   \n",
            "193  2087  vd-bobsms  your vpa 9899235911@ybl linked to your a/c no....   \n",
            "194  2115  vd-bobsms  your vpa 9899235911@ybl linked to your a/c no....   \n",
            "195  2040  bz-bsesrp  bill of ca no 102163347 (may-22) of rs.20 due ...   \n",
            "198  1353  bp-kotakb  rs. 377.00 is debited from kotak bank a/c/ cre...   \n",
            "\n",
            "                        date errorCode locked messageDirection messageType  \\\n",
            "1    2023-05-13 11:34:12.758         0      0         incoming         sms   \n",
            "2    2023-05-14 11:49:02.207         0      0         incoming         sms   \n",
            "3    2023-05-26 08:23:30.220         0      0         incoming         sms   \n",
            "4    2023-05-26 06:13:45.486         0      0         incoming         sms   \n",
            "6    2023-05-20 04:04:15.229         0      0         incoming         sms   \n",
            "..                       ...       ...    ...              ...         ...   \n",
            "192  2022-06-08 05:54:27.032         0      0         incoming         sms   \n",
            "193  2022-06-09 02:40:12.887         0      0         incoming         sms   \n",
            "194  2022-06-20 14:52:14.251         0      0         incoming         sms   \n",
            "195  2022-05-24 08:18:56.030         0      0         incoming         sms   \n",
            "198  2021-11-30 12:26:38.566         0      0         incoming         sms   \n",
            "\n",
            "    protocol read replyPathPresent seen   serviceCenter status  \\\n",
            "1        0.0    1              0.0    1             0.0     -1   \n",
            "2        0.0    1              0.0    1             0.0     -1   \n",
            "3        0.0    1              0.0    1             0.0     -1   \n",
            "4        0.0    1              0.0    1  917021075037.0     -1   \n",
            "6        0.0    1              0.0    1  919820405114.0     -1   \n",
            "..       ...  ...              ...  ...             ...    ...   \n",
            "192      0.0    1              0.0    1  919891031051.0     -1   \n",
            "193      0.0    1              0.0    1  919891030998.0     -1   \n",
            "194      0.0    1              0.0    1  919891030998.0     -1   \n",
            "195      0.0    1              0.0    1  919423096951.0     -1   \n",
            "198      0.0    1              0.0    1  919478698625.0     -1   \n",
            "\n",
            "                                                  text threadId type  \n",
            "1    dear customer, complete your flipkart pay late...      988    1  \n",
            "2    dear customer, you're pre-approved for credit ...      988    1  \n",
            "3    dear customer, complete your flipkart pay late...      988    1  \n",
            "4    rs.11 transferred from a/c ...2098 to:upi/3146...     1015    1  \n",
            "6    sent rs.210.00 from kotak bank ac xxxx0884 to ...     1000    1  \n",
            "..                                                 ...      ...  ...  \n",
            "192  your vpa 9899235911@ybl linked to your a/c no....      409    1  \n",
            "193  your vpa 9899235911@ybl linked to your a/c no....      409    1  \n",
            "194  your vpa 9899235911@ybl linked to your a/c no....      409    1  \n",
            "195  bill of ca no 102163347 (may-22) of rs.20 due ...      457    1  \n",
            "198  rs. 377.00 is debited from kotak bank a/c/ cre...      314    1  \n",
            "\n",
            "[115 rows x 17 columns]\n"
          ]
        }
      ]
    },
    {
      "cell_type": "code",
      "source": [
        "filtered_df.head()"
      ],
      "metadata": {
        "colab": {
          "base_uri": "https://localhost:8080/",
          "height": 634
        },
        "id": "K3-l30Ji4mvq",
        "outputId": "5a320b80-7581-4cf6-829d-4fade4c113d0"
      },
      "execution_count": 193,
      "outputs": [
        {
          "output_type": "execute_result",
          "data": {
            "text/plain": [
              "    _id    address                                               body  \\\n",
              "1  3665     flpkrt  dear customer, complete your flipkart pay late...   \n",
              "2  3671     flpkrt  dear customer, you're pre-approved for credit ...   \n",
              "3  3748     flpkrt  dear customer, complete your flipkart pay late...   \n",
              "4  3747  jm-bobtxn  rs.11 transferred from a/c ...2098 to:upi/3146...   \n",
              "6  3714  vm-kotakb  sent rs.210.00 from kotak bank ac xxxx0884 to ...   \n",
              "\n",
              "                      date errorCode locked messageDirection messageType  \\\n",
              "1  2023-05-13 11:34:12.758         0      0         incoming         sms   \n",
              "2  2023-05-14 11:49:02.207         0      0         incoming         sms   \n",
              "3  2023-05-26 08:23:30.220         0      0         incoming         sms   \n",
              "4  2023-05-26 06:13:45.486         0      0         incoming         sms   \n",
              "6  2023-05-20 04:04:15.229         0      0         incoming         sms   \n",
              "\n",
              "  protocol read replyPathPresent seen   serviceCenter status  \\\n",
              "1      0.0    1              0.0    1             0.0     -1   \n",
              "2      0.0    1              0.0    1             0.0     -1   \n",
              "3      0.0    1              0.0    1             0.0     -1   \n",
              "4      0.0    1              0.0    1  917021075037.0     -1   \n",
              "6      0.0    1              0.0    1  919820405114.0     -1   \n",
              "\n",
              "                                                text threadId type  \n",
              "1  dear customer, complete your flipkart pay late...      988    1  \n",
              "2  dear customer, you're pre-approved for credit ...      988    1  \n",
              "3  dear customer, complete your flipkart pay late...      988    1  \n",
              "4  rs.11 transferred from a/c ...2098 to:upi/3146...     1015    1  \n",
              "6  sent rs.210.00 from kotak bank ac xxxx0884 to ...     1000    1  "
            ],
            "text/html": [
              "\n",
              "  <div id=\"df-ce075175-96c5-45bd-a922-47e5668da6d2\">\n",
              "    <div class=\"colab-df-container\">\n",
              "      <div>\n",
              "<style scoped>\n",
              "    .dataframe tbody tr th:only-of-type {\n",
              "        vertical-align: middle;\n",
              "    }\n",
              "\n",
              "    .dataframe tbody tr th {\n",
              "        vertical-align: top;\n",
              "    }\n",
              "\n",
              "    .dataframe thead th {\n",
              "        text-align: right;\n",
              "    }\n",
              "</style>\n",
              "<table border=\"1\" class=\"dataframe\">\n",
              "  <thead>\n",
              "    <tr style=\"text-align: right;\">\n",
              "      <th></th>\n",
              "      <th>_id</th>\n",
              "      <th>address</th>\n",
              "      <th>body</th>\n",
              "      <th>date</th>\n",
              "      <th>errorCode</th>\n",
              "      <th>locked</th>\n",
              "      <th>messageDirection</th>\n",
              "      <th>messageType</th>\n",
              "      <th>protocol</th>\n",
              "      <th>read</th>\n",
              "      <th>replyPathPresent</th>\n",
              "      <th>seen</th>\n",
              "      <th>serviceCenter</th>\n",
              "      <th>status</th>\n",
              "      <th>text</th>\n",
              "      <th>threadId</th>\n",
              "      <th>type</th>\n",
              "    </tr>\n",
              "  </thead>\n",
              "  <tbody>\n",
              "    <tr>\n",
              "      <th>1</th>\n",
              "      <td>3665</td>\n",
              "      <td>flpkrt</td>\n",
              "      <td>dear customer, complete your flipkart pay late...</td>\n",
              "      <td>2023-05-13 11:34:12.758</td>\n",
              "      <td>0</td>\n",
              "      <td>0</td>\n",
              "      <td>incoming</td>\n",
              "      <td>sms</td>\n",
              "      <td>0.0</td>\n",
              "      <td>1</td>\n",
              "      <td>0.0</td>\n",
              "      <td>1</td>\n",
              "      <td>0.0</td>\n",
              "      <td>-1</td>\n",
              "      <td>dear customer, complete your flipkart pay late...</td>\n",
              "      <td>988</td>\n",
              "      <td>1</td>\n",
              "    </tr>\n",
              "    <tr>\n",
              "      <th>2</th>\n",
              "      <td>3671</td>\n",
              "      <td>flpkrt</td>\n",
              "      <td>dear customer, you're pre-approved for credit ...</td>\n",
              "      <td>2023-05-14 11:49:02.207</td>\n",
              "      <td>0</td>\n",
              "      <td>0</td>\n",
              "      <td>incoming</td>\n",
              "      <td>sms</td>\n",
              "      <td>0.0</td>\n",
              "      <td>1</td>\n",
              "      <td>0.0</td>\n",
              "      <td>1</td>\n",
              "      <td>0.0</td>\n",
              "      <td>-1</td>\n",
              "      <td>dear customer, you're pre-approved for credit ...</td>\n",
              "      <td>988</td>\n",
              "      <td>1</td>\n",
              "    </tr>\n",
              "    <tr>\n",
              "      <th>3</th>\n",
              "      <td>3748</td>\n",
              "      <td>flpkrt</td>\n",
              "      <td>dear customer, complete your flipkart pay late...</td>\n",
              "      <td>2023-05-26 08:23:30.220</td>\n",
              "      <td>0</td>\n",
              "      <td>0</td>\n",
              "      <td>incoming</td>\n",
              "      <td>sms</td>\n",
              "      <td>0.0</td>\n",
              "      <td>1</td>\n",
              "      <td>0.0</td>\n",
              "      <td>1</td>\n",
              "      <td>0.0</td>\n",
              "      <td>-1</td>\n",
              "      <td>dear customer, complete your flipkart pay late...</td>\n",
              "      <td>988</td>\n",
              "      <td>1</td>\n",
              "    </tr>\n",
              "    <tr>\n",
              "      <th>4</th>\n",
              "      <td>3747</td>\n",
              "      <td>jm-bobtxn</td>\n",
              "      <td>rs.11 transferred from a/c ...2098 to:upi/3146...</td>\n",
              "      <td>2023-05-26 06:13:45.486</td>\n",
              "      <td>0</td>\n",
              "      <td>0</td>\n",
              "      <td>incoming</td>\n",
              "      <td>sms</td>\n",
              "      <td>0.0</td>\n",
              "      <td>1</td>\n",
              "      <td>0.0</td>\n",
              "      <td>1</td>\n",
              "      <td>917021075037.0</td>\n",
              "      <td>-1</td>\n",
              "      <td>rs.11 transferred from a/c ...2098 to:upi/3146...</td>\n",
              "      <td>1015</td>\n",
              "      <td>1</td>\n",
              "    </tr>\n",
              "    <tr>\n",
              "      <th>6</th>\n",
              "      <td>3714</td>\n",
              "      <td>vm-kotakb</td>\n",
              "      <td>sent rs.210.00 from kotak bank ac xxxx0884 to ...</td>\n",
              "      <td>2023-05-20 04:04:15.229</td>\n",
              "      <td>0</td>\n",
              "      <td>0</td>\n",
              "      <td>incoming</td>\n",
              "      <td>sms</td>\n",
              "      <td>0.0</td>\n",
              "      <td>1</td>\n",
              "      <td>0.0</td>\n",
              "      <td>1</td>\n",
              "      <td>919820405114.0</td>\n",
              "      <td>-1</td>\n",
              "      <td>sent rs.210.00 from kotak bank ac xxxx0884 to ...</td>\n",
              "      <td>1000</td>\n",
              "      <td>1</td>\n",
              "    </tr>\n",
              "  </tbody>\n",
              "</table>\n",
              "</div>\n",
              "      <button class=\"colab-df-convert\" onclick=\"convertToInteractive('df-ce075175-96c5-45bd-a922-47e5668da6d2')\"\n",
              "              title=\"Convert this dataframe to an interactive table.\"\n",
              "              style=\"display:none;\">\n",
              "        \n",
              "  <svg xmlns=\"http://www.w3.org/2000/svg\" height=\"24px\"viewBox=\"0 0 24 24\"\n",
              "       width=\"24px\">\n",
              "    <path d=\"M0 0h24v24H0V0z\" fill=\"none\"/>\n",
              "    <path d=\"M18.56 5.44l.94 2.06.94-2.06 2.06-.94-2.06-.94-.94-2.06-.94 2.06-2.06.94zm-11 1L8.5 8.5l.94-2.06 2.06-.94-2.06-.94L8.5 2.5l-.94 2.06-2.06.94zm10 10l.94 2.06.94-2.06 2.06-.94-2.06-.94-.94-2.06-.94 2.06-2.06.94z\"/><path d=\"M17.41 7.96l-1.37-1.37c-.4-.4-.92-.59-1.43-.59-.52 0-1.04.2-1.43.59L10.3 9.45l-7.72 7.72c-.78.78-.78 2.05 0 2.83L4 21.41c.39.39.9.59 1.41.59.51 0 1.02-.2 1.41-.59l7.78-7.78 2.81-2.81c.8-.78.8-2.07 0-2.86zM5.41 20L4 18.59l7.72-7.72 1.47 1.35L5.41 20z\"/>\n",
              "  </svg>\n",
              "      </button>\n",
              "      \n",
              "  <style>\n",
              "    .colab-df-container {\n",
              "      display:flex;\n",
              "      flex-wrap:wrap;\n",
              "      gap: 12px;\n",
              "    }\n",
              "\n",
              "    .colab-df-convert {\n",
              "      background-color: #E8F0FE;\n",
              "      border: none;\n",
              "      border-radius: 50%;\n",
              "      cursor: pointer;\n",
              "      display: none;\n",
              "      fill: #1967D2;\n",
              "      height: 32px;\n",
              "      padding: 0 0 0 0;\n",
              "      width: 32px;\n",
              "    }\n",
              "\n",
              "    .colab-df-convert:hover {\n",
              "      background-color: #E2EBFA;\n",
              "      box-shadow: 0px 1px 2px rgba(60, 64, 67, 0.3), 0px 1px 3px 1px rgba(60, 64, 67, 0.15);\n",
              "      fill: #174EA6;\n",
              "    }\n",
              "\n",
              "    [theme=dark] .colab-df-convert {\n",
              "      background-color: #3B4455;\n",
              "      fill: #D2E3FC;\n",
              "    }\n",
              "\n",
              "    [theme=dark] .colab-df-convert:hover {\n",
              "      background-color: #434B5C;\n",
              "      box-shadow: 0px 1px 3px 1px rgba(0, 0, 0, 0.15);\n",
              "      filter: drop-shadow(0px 1px 2px rgba(0, 0, 0, 0.3));\n",
              "      fill: #FFFFFF;\n",
              "    }\n",
              "  </style>\n",
              "\n",
              "      <script>\n",
              "        const buttonEl =\n",
              "          document.querySelector('#df-ce075175-96c5-45bd-a922-47e5668da6d2 button.colab-df-convert');\n",
              "        buttonEl.style.display =\n",
              "          google.colab.kernel.accessAllowed ? 'block' : 'none';\n",
              "\n",
              "        async function convertToInteractive(key) {\n",
              "          const element = document.querySelector('#df-ce075175-96c5-45bd-a922-47e5668da6d2');\n",
              "          const dataTable =\n",
              "            await google.colab.kernel.invokeFunction('convertToInteractive',\n",
              "                                                     [key], {});\n",
              "          if (!dataTable) return;\n",
              "\n",
              "          const docLinkHtml = 'Like what you see? Visit the ' +\n",
              "            '<a target=\"_blank\" href=https://colab.research.google.com/notebooks/data_table.ipynb>data table notebook</a>'\n",
              "            + ' to learn more about interactive tables.';\n",
              "          element.innerHTML = '';\n",
              "          dataTable['output_type'] = 'display_data';\n",
              "          await google.colab.output.renderOutput(dataTable, element);\n",
              "          const docLink = document.createElement('div');\n",
              "          docLink.innerHTML = docLinkHtml;\n",
              "          element.appendChild(docLink);\n",
              "        }\n",
              "      </script>\n",
              "    </div>\n",
              "  </div>\n",
              "  "
            ]
          },
          "metadata": {},
          "execution_count": 193
        }
      ]
    },
    {
      "cell_type": "code",
      "source": [
        "data.columns"
      ],
      "metadata": {
        "colab": {
          "base_uri": "https://localhost:8080/"
        },
        "id": "Cxy8Pr_g5Tpi",
        "outputId": "82d44373-f53b-49c5-ea21-299cfbb8da1a"
      },
      "execution_count": 194,
      "outputs": [
        {
          "output_type": "execute_result",
          "data": {
            "text/plain": [
              "Index(['_id', 'address', 'body', 'date', 'errorCode', 'locked',\n",
              "       'messageDirection', 'messageType', 'protocol', 'read',\n",
              "       'replyPathPresent', 'seen', 'serviceCenter', 'status', 'text',\n",
              "       'threadId', 'type'],\n",
              "      dtype='object')"
            ]
          },
          "metadata": {},
          "execution_count": 194
        }
      ]
    },
    {
      "cell_type": "code",
      "source": [
        "# Select the ones you want\n",
        "df = data[['address', 'date','text']]"
      ],
      "metadata": {
        "id": "Iaiv0Fpa47DS"
      },
      "execution_count": 195,
      "outputs": []
    },
    {
      "cell_type": "code",
      "source": [
        "df.head()"
      ],
      "metadata": {
        "colab": {
          "base_uri": "https://localhost:8080/",
          "height": 206
        },
        "id": "6uz575Cg5wyJ",
        "outputId": "29e38261-7b26-4f8c-a656-c88b82beb127"
      },
      "execution_count": 196,
      "outputs": [
        {
          "output_type": "execute_result",
          "data": {
            "text/plain": [
              "     address                     date  \\\n",
              "0  jd-blappl  2023-05-26 09:11:47.302   \n",
              "1     flpkrt  2023-05-13 11:34:12.758   \n",
              "2     flpkrt  2023-05-14 11:49:02.207   \n",
              "3     flpkrt  2023-05-26 08:23:30.220   \n",
              "4  jm-bobtxn  2023-05-26 06:13:45.486   \n",
              "\n",
              "                                                text  \n",
              "0  dear rohit,\\n2992 is your mobile verification ...  \n",
              "1  dear customer, complete your flipkart pay late...  \n",
              "2  dear customer, you're pre-approved for credit ...  \n",
              "3  dear customer, complete your flipkart pay late...  \n",
              "4  rs.11 transferred from a/c ...2098 to:upi/3146...  "
            ],
            "text/html": [
              "\n",
              "  <div id=\"df-90bc7595-72ba-4c2b-a51f-9e2f9eaa8f0c\">\n",
              "    <div class=\"colab-df-container\">\n",
              "      <div>\n",
              "<style scoped>\n",
              "    .dataframe tbody tr th:only-of-type {\n",
              "        vertical-align: middle;\n",
              "    }\n",
              "\n",
              "    .dataframe tbody tr th {\n",
              "        vertical-align: top;\n",
              "    }\n",
              "\n",
              "    .dataframe thead th {\n",
              "        text-align: right;\n",
              "    }\n",
              "</style>\n",
              "<table border=\"1\" class=\"dataframe\">\n",
              "  <thead>\n",
              "    <tr style=\"text-align: right;\">\n",
              "      <th></th>\n",
              "      <th>address</th>\n",
              "      <th>date</th>\n",
              "      <th>text</th>\n",
              "    </tr>\n",
              "  </thead>\n",
              "  <tbody>\n",
              "    <tr>\n",
              "      <th>0</th>\n",
              "      <td>jd-blappl</td>\n",
              "      <td>2023-05-26 09:11:47.302</td>\n",
              "      <td>dear rohit,\\n2992 is your mobile verification ...</td>\n",
              "    </tr>\n",
              "    <tr>\n",
              "      <th>1</th>\n",
              "      <td>flpkrt</td>\n",
              "      <td>2023-05-13 11:34:12.758</td>\n",
              "      <td>dear customer, complete your flipkart pay late...</td>\n",
              "    </tr>\n",
              "    <tr>\n",
              "      <th>2</th>\n",
              "      <td>flpkrt</td>\n",
              "      <td>2023-05-14 11:49:02.207</td>\n",
              "      <td>dear customer, you're pre-approved for credit ...</td>\n",
              "    </tr>\n",
              "    <tr>\n",
              "      <th>3</th>\n",
              "      <td>flpkrt</td>\n",
              "      <td>2023-05-26 08:23:30.220</td>\n",
              "      <td>dear customer, complete your flipkart pay late...</td>\n",
              "    </tr>\n",
              "    <tr>\n",
              "      <th>4</th>\n",
              "      <td>jm-bobtxn</td>\n",
              "      <td>2023-05-26 06:13:45.486</td>\n",
              "      <td>rs.11 transferred from a/c ...2098 to:upi/3146...</td>\n",
              "    </tr>\n",
              "  </tbody>\n",
              "</table>\n",
              "</div>\n",
              "      <button class=\"colab-df-convert\" onclick=\"convertToInteractive('df-90bc7595-72ba-4c2b-a51f-9e2f9eaa8f0c')\"\n",
              "              title=\"Convert this dataframe to an interactive table.\"\n",
              "              style=\"display:none;\">\n",
              "        \n",
              "  <svg xmlns=\"http://www.w3.org/2000/svg\" height=\"24px\"viewBox=\"0 0 24 24\"\n",
              "       width=\"24px\">\n",
              "    <path d=\"M0 0h24v24H0V0z\" fill=\"none\"/>\n",
              "    <path d=\"M18.56 5.44l.94 2.06.94-2.06 2.06-.94-2.06-.94-.94-2.06-.94 2.06-2.06.94zm-11 1L8.5 8.5l.94-2.06 2.06-.94-2.06-.94L8.5 2.5l-.94 2.06-2.06.94zm10 10l.94 2.06.94-2.06 2.06-.94-2.06-.94-.94-2.06-.94 2.06-2.06.94z\"/><path d=\"M17.41 7.96l-1.37-1.37c-.4-.4-.92-.59-1.43-.59-.52 0-1.04.2-1.43.59L10.3 9.45l-7.72 7.72c-.78.78-.78 2.05 0 2.83L4 21.41c.39.39.9.59 1.41.59.51 0 1.02-.2 1.41-.59l7.78-7.78 2.81-2.81c.8-.78.8-2.07 0-2.86zM5.41 20L4 18.59l7.72-7.72 1.47 1.35L5.41 20z\"/>\n",
              "  </svg>\n",
              "      </button>\n",
              "      \n",
              "  <style>\n",
              "    .colab-df-container {\n",
              "      display:flex;\n",
              "      flex-wrap:wrap;\n",
              "      gap: 12px;\n",
              "    }\n",
              "\n",
              "    .colab-df-convert {\n",
              "      background-color: #E8F0FE;\n",
              "      border: none;\n",
              "      border-radius: 50%;\n",
              "      cursor: pointer;\n",
              "      display: none;\n",
              "      fill: #1967D2;\n",
              "      height: 32px;\n",
              "      padding: 0 0 0 0;\n",
              "      width: 32px;\n",
              "    }\n",
              "\n",
              "    .colab-df-convert:hover {\n",
              "      background-color: #E2EBFA;\n",
              "      box-shadow: 0px 1px 2px rgba(60, 64, 67, 0.3), 0px 1px 3px 1px rgba(60, 64, 67, 0.15);\n",
              "      fill: #174EA6;\n",
              "    }\n",
              "\n",
              "    [theme=dark] .colab-df-convert {\n",
              "      background-color: #3B4455;\n",
              "      fill: #D2E3FC;\n",
              "    }\n",
              "\n",
              "    [theme=dark] .colab-df-convert:hover {\n",
              "      background-color: #434B5C;\n",
              "      box-shadow: 0px 1px 3px 1px rgba(0, 0, 0, 0.15);\n",
              "      filter: drop-shadow(0px 1px 2px rgba(0, 0, 0, 0.3));\n",
              "      fill: #FFFFFF;\n",
              "    }\n",
              "  </style>\n",
              "\n",
              "      <script>\n",
              "        const buttonEl =\n",
              "          document.querySelector('#df-90bc7595-72ba-4c2b-a51f-9e2f9eaa8f0c button.colab-df-convert');\n",
              "        buttonEl.style.display =\n",
              "          google.colab.kernel.accessAllowed ? 'block' : 'none';\n",
              "\n",
              "        async function convertToInteractive(key) {\n",
              "          const element = document.querySelector('#df-90bc7595-72ba-4c2b-a51f-9e2f9eaa8f0c');\n",
              "          const dataTable =\n",
              "            await google.colab.kernel.invokeFunction('convertToInteractive',\n",
              "                                                     [key], {});\n",
              "          if (!dataTable) return;\n",
              "\n",
              "          const docLinkHtml = 'Like what you see? Visit the ' +\n",
              "            '<a target=\"_blank\" href=https://colab.research.google.com/notebooks/data_table.ipynb>data table notebook</a>'\n",
              "            + ' to learn more about interactive tables.';\n",
              "          element.innerHTML = '';\n",
              "          dataTable['output_type'] = 'display_data';\n",
              "          await google.colab.output.renderOutput(dataTable, element);\n",
              "          const docLink = document.createElement('div');\n",
              "          docLink.innerHTML = docLinkHtml;\n",
              "          element.appendChild(docLink);\n",
              "        }\n",
              "      </script>\n",
              "    </div>\n",
              "  </div>\n",
              "  "
            ]
          },
          "metadata": {},
          "execution_count": 196
        }
      ]
    },
    {
      "cell_type": "code",
      "source": [
        "df=df.sort_values(by='date',ascending=True)"
      ],
      "metadata": {
        "id": "sN9Fw34s5yc8"
      },
      "execution_count": 197,
      "outputs": []
    },
    {
      "cell_type": "code",
      "source": [
        "df.head()"
      ],
      "metadata": {
        "colab": {
          "base_uri": "https://localhost:8080/",
          "height": 206
        },
        "id": "c7naRE6w6Pi3",
        "outputId": "5881abe2-58f1-4f1f-bd0c-f9521101c995"
      },
      "execution_count": 198,
      "outputs": [
        {
          "output_type": "execute_result",
          "data": {
            "text/plain": [
              "       address                     date  \\\n",
              "244  ax-kvssms  2021-04-02 05:25:54.091   \n",
              "245  ax-kvssms  2021-04-02 05:26:23.149   \n",
              "246  ax-kvssms  2021-04-02 05:49:34.793   \n",
              "247  ax-kvssms  2021-04-02 05:49:51.822   \n",
              "248  ax-kvssms  2021-04-13 11:59:10.206   \n",
              "\n",
              "                                                  text  \n",
              "244  dear user, otp for mobile number verification ...  \n",
              "245  dear mack , thank you for registering. your lo...  \n",
              "246  dear user, otp for application form submission...  \n",
              "247  dear mack,we have received your application. y...  \n",
              "248  dear user, otp for application form cancellati...  "
            ],
            "text/html": [
              "\n",
              "  <div id=\"df-062636e7-be2a-44a8-8133-44fd7dae4160\">\n",
              "    <div class=\"colab-df-container\">\n",
              "      <div>\n",
              "<style scoped>\n",
              "    .dataframe tbody tr th:only-of-type {\n",
              "        vertical-align: middle;\n",
              "    }\n",
              "\n",
              "    .dataframe tbody tr th {\n",
              "        vertical-align: top;\n",
              "    }\n",
              "\n",
              "    .dataframe thead th {\n",
              "        text-align: right;\n",
              "    }\n",
              "</style>\n",
              "<table border=\"1\" class=\"dataframe\">\n",
              "  <thead>\n",
              "    <tr style=\"text-align: right;\">\n",
              "      <th></th>\n",
              "      <th>address</th>\n",
              "      <th>date</th>\n",
              "      <th>text</th>\n",
              "    </tr>\n",
              "  </thead>\n",
              "  <tbody>\n",
              "    <tr>\n",
              "      <th>244</th>\n",
              "      <td>ax-kvssms</td>\n",
              "      <td>2021-04-02 05:25:54.091</td>\n",
              "      <td>dear user, otp for mobile number verification ...</td>\n",
              "    </tr>\n",
              "    <tr>\n",
              "      <th>245</th>\n",
              "      <td>ax-kvssms</td>\n",
              "      <td>2021-04-02 05:26:23.149</td>\n",
              "      <td>dear mack , thank you for registering. your lo...</td>\n",
              "    </tr>\n",
              "    <tr>\n",
              "      <th>246</th>\n",
              "      <td>ax-kvssms</td>\n",
              "      <td>2021-04-02 05:49:34.793</td>\n",
              "      <td>dear user, otp for application form submission...</td>\n",
              "    </tr>\n",
              "    <tr>\n",
              "      <th>247</th>\n",
              "      <td>ax-kvssms</td>\n",
              "      <td>2021-04-02 05:49:51.822</td>\n",
              "      <td>dear mack,we have received your application. y...</td>\n",
              "    </tr>\n",
              "    <tr>\n",
              "      <th>248</th>\n",
              "      <td>ax-kvssms</td>\n",
              "      <td>2021-04-13 11:59:10.206</td>\n",
              "      <td>dear user, otp for application form cancellati...</td>\n",
              "    </tr>\n",
              "  </tbody>\n",
              "</table>\n",
              "</div>\n",
              "      <button class=\"colab-df-convert\" onclick=\"convertToInteractive('df-062636e7-be2a-44a8-8133-44fd7dae4160')\"\n",
              "              title=\"Convert this dataframe to an interactive table.\"\n",
              "              style=\"display:none;\">\n",
              "        \n",
              "  <svg xmlns=\"http://www.w3.org/2000/svg\" height=\"24px\"viewBox=\"0 0 24 24\"\n",
              "       width=\"24px\">\n",
              "    <path d=\"M0 0h24v24H0V0z\" fill=\"none\"/>\n",
              "    <path d=\"M18.56 5.44l.94 2.06.94-2.06 2.06-.94-2.06-.94-.94-2.06-.94 2.06-2.06.94zm-11 1L8.5 8.5l.94-2.06 2.06-.94-2.06-.94L8.5 2.5l-.94 2.06-2.06.94zm10 10l.94 2.06.94-2.06 2.06-.94-2.06-.94-.94-2.06-.94 2.06-2.06.94z\"/><path d=\"M17.41 7.96l-1.37-1.37c-.4-.4-.92-.59-1.43-.59-.52 0-1.04.2-1.43.59L10.3 9.45l-7.72 7.72c-.78.78-.78 2.05 0 2.83L4 21.41c.39.39.9.59 1.41.59.51 0 1.02-.2 1.41-.59l7.78-7.78 2.81-2.81c.8-.78.8-2.07 0-2.86zM5.41 20L4 18.59l7.72-7.72 1.47 1.35L5.41 20z\"/>\n",
              "  </svg>\n",
              "      </button>\n",
              "      \n",
              "  <style>\n",
              "    .colab-df-container {\n",
              "      display:flex;\n",
              "      flex-wrap:wrap;\n",
              "      gap: 12px;\n",
              "    }\n",
              "\n",
              "    .colab-df-convert {\n",
              "      background-color: #E8F0FE;\n",
              "      border: none;\n",
              "      border-radius: 50%;\n",
              "      cursor: pointer;\n",
              "      display: none;\n",
              "      fill: #1967D2;\n",
              "      height: 32px;\n",
              "      padding: 0 0 0 0;\n",
              "      width: 32px;\n",
              "    }\n",
              "\n",
              "    .colab-df-convert:hover {\n",
              "      background-color: #E2EBFA;\n",
              "      box-shadow: 0px 1px 2px rgba(60, 64, 67, 0.3), 0px 1px 3px 1px rgba(60, 64, 67, 0.15);\n",
              "      fill: #174EA6;\n",
              "    }\n",
              "\n",
              "    [theme=dark] .colab-df-convert {\n",
              "      background-color: #3B4455;\n",
              "      fill: #D2E3FC;\n",
              "    }\n",
              "\n",
              "    [theme=dark] .colab-df-convert:hover {\n",
              "      background-color: #434B5C;\n",
              "      box-shadow: 0px 1px 3px 1px rgba(0, 0, 0, 0.15);\n",
              "      filter: drop-shadow(0px 1px 2px rgba(0, 0, 0, 0.3));\n",
              "      fill: #FFFFFF;\n",
              "    }\n",
              "  </style>\n",
              "\n",
              "      <script>\n",
              "        const buttonEl =\n",
              "          document.querySelector('#df-062636e7-be2a-44a8-8133-44fd7dae4160 button.colab-df-convert');\n",
              "        buttonEl.style.display =\n",
              "          google.colab.kernel.accessAllowed ? 'block' : 'none';\n",
              "\n",
              "        async function convertToInteractive(key) {\n",
              "          const element = document.querySelector('#df-062636e7-be2a-44a8-8133-44fd7dae4160');\n",
              "          const dataTable =\n",
              "            await google.colab.kernel.invokeFunction('convertToInteractive',\n",
              "                                                     [key], {});\n",
              "          if (!dataTable) return;\n",
              "\n",
              "          const docLinkHtml = 'Like what you see? Visit the ' +\n",
              "            '<a target=\"_blank\" href=https://colab.research.google.com/notebooks/data_table.ipynb>data table notebook</a>'\n",
              "            + ' to learn more about interactive tables.';\n",
              "          element.innerHTML = '';\n",
              "          dataTable['output_type'] = 'display_data';\n",
              "          await google.colab.output.renderOutput(dataTable, element);\n",
              "          const docLink = document.createElement('div');\n",
              "          docLink.innerHTML = docLinkHtml;\n",
              "          element.appendChild(docLink);\n",
              "        }\n",
              "      </script>\n",
              "    </div>\n",
              "  </div>\n",
              "  "
            ]
          },
          "metadata": {},
          "execution_count": 198
        }
      ]
    },
    {
      "cell_type": "code",
      "source": [
        "df.address.value_counts().head(20)"
      ],
      "metadata": {
        "colab": {
          "base_uri": "https://localhost:8080/"
        },
        "id": "6GuwXG-66WZv",
        "outputId": "aadd3309-4da0-4ca7-cc3b-cc59864f63c2"
      },
      "execution_count": 199,
      "outputs": [
        {
          "output_type": "execute_result",
          "data": {
            "text/plain": [
              "vm-bobtxn     53\n",
              "tm-ecisms     21\n",
              "vm-bsesrp     13\n",
              "ax-indane     11\n",
              "vm-nhpsms      9\n",
              "ax-kvssms      8\n",
              "vk-bsesrp      7\n",
              "vd-cmsche      7\n",
              "vk-vaahan      6\n",
              "vm-rbisay      5\n",
              "ad-ekartl      5\n",
              "ad-indane      4\n",
              "bh-vaahan      4\n",
              "vm-kotakb      4\n",
              "121            4\n",
              "jd-bobsms      3\n",
              "ax-bpclin      3\n",
              "9910399116     3\n",
              "bp-kotakb      3\n",
              "flpkrt         3\n",
              "Name: address, dtype: int64"
            ]
          },
          "metadata": {},
          "execution_count": 199
        }
      ]
    },
    {
      "cell_type": "code",
      "source": [
        "# Filter the DataFrame based on a specific substring\n",
        "substring_avl = '(avl)'\n",
        "txn_avl = df[df['text'].str.contains(substring, case=False)]\n",
        "\n",
        "#substring_not = '(not)'\n",
        "#txn_confirming = df[df['text'].str.contains(substring, case=False)]\n"
      ],
      "metadata": {
        "id": "QP5pDoui6f0S"
      },
      "execution_count": 200,
      "outputs": []
    },
    {
      "cell_type": "code",
      "source": [
        "txn_avl.shape"
      ],
      "metadata": {
        "colab": {
          "base_uri": "https://localhost:8080/"
        },
        "id": "oCa0y8DE7QZ_",
        "outputId": "e4bbbe42-bf1a-4c57-85d4-8821ee8b4f86"
      },
      "execution_count": 201,
      "outputs": [
        {
          "output_type": "execute_result",
          "data": {
            "text/plain": [
              "(115, 3)"
            ]
          },
          "metadata": {},
          "execution_count": 201
        }
      ]
    },
    {
      "cell_type": "code",
      "source": [
        "#txn_confirming.shape()"
      ],
      "metadata": {
        "id": "r_TqcprBQa-P"
      },
      "execution_count": 202,
      "outputs": []
    },
    {
      "cell_type": "code",
      "source": [
        "#txn.tail(6)"
      ],
      "metadata": {
        "id": "gXwz2Ljl7Zza"
      },
      "execution_count": 203,
      "outputs": []
    },
    {
      "cell_type": "code",
      "source": [
        "#txn.address.value_counts()"
      ],
      "metadata": {
        "id": "pSXP0Juw7x_K"
      },
      "execution_count": 204,
      "outputs": []
    },
    {
      "cell_type": "code",
      "source": [
        "\n",
        "# Extract text starting from \"AVL\" up to \"(\" or \"NOT\" using regular expressions\n",
        "pattern = r'avl(.*?)\\('\n",
        "df['Extracted_Text'] = df['text'].str.extract(pattern, expand=False)"
      ],
      "metadata": {
        "id": "TktvAuTP9D3G"
      },
      "execution_count": 205,
      "outputs": []
    },
    {
      "cell_type": "code",
      "source": [
        "df.head()"
      ],
      "metadata": {
        "colab": {
          "base_uri": "https://localhost:8080/",
          "height": 206
        },
        "id": "9-rYbZgMFPgp",
        "outputId": "3fa1ada1-b338-4036-aa60-458805489df9"
      },
      "execution_count": 206,
      "outputs": [
        {
          "output_type": "execute_result",
          "data": {
            "text/plain": [
              "       address                     date  \\\n",
              "244  ax-kvssms  2021-04-02 05:25:54.091   \n",
              "245  ax-kvssms  2021-04-02 05:26:23.149   \n",
              "246  ax-kvssms  2021-04-02 05:49:34.793   \n",
              "247  ax-kvssms  2021-04-02 05:49:51.822   \n",
              "248  ax-kvssms  2021-04-13 11:59:10.206   \n",
              "\n",
              "                                                  text Extracted_Text  \n",
              "244  dear user, otp for mobile number verification ...            NaN  \n",
              "245  dear mack , thank you for registering. your lo...            NaN  \n",
              "246  dear user, otp for application form submission...            NaN  \n",
              "247  dear mack,we have received your application. y...            NaN  \n",
              "248  dear user, otp for application form cancellati...            NaN  "
            ],
            "text/html": [
              "\n",
              "  <div id=\"df-53901cd9-8044-4af0-9c3a-b06fc0a65884\">\n",
              "    <div class=\"colab-df-container\">\n",
              "      <div>\n",
              "<style scoped>\n",
              "    .dataframe tbody tr th:only-of-type {\n",
              "        vertical-align: middle;\n",
              "    }\n",
              "\n",
              "    .dataframe tbody tr th {\n",
              "        vertical-align: top;\n",
              "    }\n",
              "\n",
              "    .dataframe thead th {\n",
              "        text-align: right;\n",
              "    }\n",
              "</style>\n",
              "<table border=\"1\" class=\"dataframe\">\n",
              "  <thead>\n",
              "    <tr style=\"text-align: right;\">\n",
              "      <th></th>\n",
              "      <th>address</th>\n",
              "      <th>date</th>\n",
              "      <th>text</th>\n",
              "      <th>Extracted_Text</th>\n",
              "    </tr>\n",
              "  </thead>\n",
              "  <tbody>\n",
              "    <tr>\n",
              "      <th>244</th>\n",
              "      <td>ax-kvssms</td>\n",
              "      <td>2021-04-02 05:25:54.091</td>\n",
              "      <td>dear user, otp for mobile number verification ...</td>\n",
              "      <td>NaN</td>\n",
              "    </tr>\n",
              "    <tr>\n",
              "      <th>245</th>\n",
              "      <td>ax-kvssms</td>\n",
              "      <td>2021-04-02 05:26:23.149</td>\n",
              "      <td>dear mack , thank you for registering. your lo...</td>\n",
              "      <td>NaN</td>\n",
              "    </tr>\n",
              "    <tr>\n",
              "      <th>246</th>\n",
              "      <td>ax-kvssms</td>\n",
              "      <td>2021-04-02 05:49:34.793</td>\n",
              "      <td>dear user, otp for application form submission...</td>\n",
              "      <td>NaN</td>\n",
              "    </tr>\n",
              "    <tr>\n",
              "      <th>247</th>\n",
              "      <td>ax-kvssms</td>\n",
              "      <td>2021-04-02 05:49:51.822</td>\n",
              "      <td>dear mack,we have received your application. y...</td>\n",
              "      <td>NaN</td>\n",
              "    </tr>\n",
              "    <tr>\n",
              "      <th>248</th>\n",
              "      <td>ax-kvssms</td>\n",
              "      <td>2021-04-13 11:59:10.206</td>\n",
              "      <td>dear user, otp for application form cancellati...</td>\n",
              "      <td>NaN</td>\n",
              "    </tr>\n",
              "  </tbody>\n",
              "</table>\n",
              "</div>\n",
              "      <button class=\"colab-df-convert\" onclick=\"convertToInteractive('df-53901cd9-8044-4af0-9c3a-b06fc0a65884')\"\n",
              "              title=\"Convert this dataframe to an interactive table.\"\n",
              "              style=\"display:none;\">\n",
              "        \n",
              "  <svg xmlns=\"http://www.w3.org/2000/svg\" height=\"24px\"viewBox=\"0 0 24 24\"\n",
              "       width=\"24px\">\n",
              "    <path d=\"M0 0h24v24H0V0z\" fill=\"none\"/>\n",
              "    <path d=\"M18.56 5.44l.94 2.06.94-2.06 2.06-.94-2.06-.94-.94-2.06-.94 2.06-2.06.94zm-11 1L8.5 8.5l.94-2.06 2.06-.94-2.06-.94L8.5 2.5l-.94 2.06-2.06.94zm10 10l.94 2.06.94-2.06 2.06-.94-2.06-.94-.94-2.06-.94 2.06-2.06.94z\"/><path d=\"M17.41 7.96l-1.37-1.37c-.4-.4-.92-.59-1.43-.59-.52 0-1.04.2-1.43.59L10.3 9.45l-7.72 7.72c-.78.78-.78 2.05 0 2.83L4 21.41c.39.39.9.59 1.41.59.51 0 1.02-.2 1.41-.59l7.78-7.78 2.81-2.81c.8-.78.8-2.07 0-2.86zM5.41 20L4 18.59l7.72-7.72 1.47 1.35L5.41 20z\"/>\n",
              "  </svg>\n",
              "      </button>\n",
              "      \n",
              "  <style>\n",
              "    .colab-df-container {\n",
              "      display:flex;\n",
              "      flex-wrap:wrap;\n",
              "      gap: 12px;\n",
              "    }\n",
              "\n",
              "    .colab-df-convert {\n",
              "      background-color: #E8F0FE;\n",
              "      border: none;\n",
              "      border-radius: 50%;\n",
              "      cursor: pointer;\n",
              "      display: none;\n",
              "      fill: #1967D2;\n",
              "      height: 32px;\n",
              "      padding: 0 0 0 0;\n",
              "      width: 32px;\n",
              "    }\n",
              "\n",
              "    .colab-df-convert:hover {\n",
              "      background-color: #E2EBFA;\n",
              "      box-shadow: 0px 1px 2px rgba(60, 64, 67, 0.3), 0px 1px 3px 1px rgba(60, 64, 67, 0.15);\n",
              "      fill: #174EA6;\n",
              "    }\n",
              "\n",
              "    [theme=dark] .colab-df-convert {\n",
              "      background-color: #3B4455;\n",
              "      fill: #D2E3FC;\n",
              "    }\n",
              "\n",
              "    [theme=dark] .colab-df-convert:hover {\n",
              "      background-color: #434B5C;\n",
              "      box-shadow: 0px 1px 3px 1px rgba(0, 0, 0, 0.15);\n",
              "      filter: drop-shadow(0px 1px 2px rgba(0, 0, 0, 0.3));\n",
              "      fill: #FFFFFF;\n",
              "    }\n",
              "  </style>\n",
              "\n",
              "      <script>\n",
              "        const buttonEl =\n",
              "          document.querySelector('#df-53901cd9-8044-4af0-9c3a-b06fc0a65884 button.colab-df-convert');\n",
              "        buttonEl.style.display =\n",
              "          google.colab.kernel.accessAllowed ? 'block' : 'none';\n",
              "\n",
              "        async function convertToInteractive(key) {\n",
              "          const element = document.querySelector('#df-53901cd9-8044-4af0-9c3a-b06fc0a65884');\n",
              "          const dataTable =\n",
              "            await google.colab.kernel.invokeFunction('convertToInteractive',\n",
              "                                                     [key], {});\n",
              "          if (!dataTable) return;\n",
              "\n",
              "          const docLinkHtml = 'Like what you see? Visit the ' +\n",
              "            '<a target=\"_blank\" href=https://colab.research.google.com/notebooks/data_table.ipynb>data table notebook</a>'\n",
              "            + ' to learn more about interactive tables.';\n",
              "          element.innerHTML = '';\n",
              "          dataTable['output_type'] = 'display_data';\n",
              "          await google.colab.output.renderOutput(dataTable, element);\n",
              "          const docLink = document.createElement('div');\n",
              "          docLink.innerHTML = docLinkHtml;\n",
              "          element.appendChild(docLink);\n",
              "        }\n",
              "      </script>\n",
              "    </div>\n",
              "  </div>\n",
              "  "
            ]
          },
          "metadata": {},
          "execution_count": 206
        }
      ]
    },
    {
      "cell_type": "code",
      "source": [
        "df.tail()"
      ],
      "metadata": {
        "colab": {
          "base_uri": "https://localhost:8080/",
          "height": 206
        },
        "id": "R_eu08rQFTer",
        "outputId": "4acbb0ac-6920-4f93-e8b0-489cb53267f3"
      },
      "execution_count": 207,
      "outputs": [
        {
          "output_type": "execute_result",
          "data": {
            "text/plain": [
              "     address                     date  \\\n",
              "9  vm-kotakb  2023-05-25 14:09:13.061   \n",
              "5  vm-khtabk  2023-05-26 04:10:41.568   \n",
              "4  jm-bobtxn  2023-05-26 06:13:45.486   \n",
              "3     flpkrt  2023-05-26 08:23:30.220   \n",
              "0  jd-blappl  2023-05-26 09:11:47.302   \n",
              "\n",
              "                                                text Extracted_Text  \n",
              "9  you've withdrawn rs2000.00 thru kotak bank deb...            NaN  \n",
              "5  your khatabook verification code is 362918 wk+...            NaN  \n",
              "4  rs.11 transferred from a/c ...2098 to:upi/3146...  bl amt:rs.7.8  \n",
              "3  dear customer, complete your flipkart pay late...            NaN  \n",
              "0  dear rohit,\\n2992 is your mobile verification ...            NaN  "
            ],
            "text/html": [
              "\n",
              "  <div id=\"df-5aab1796-543f-4b5f-8497-035841cca378\">\n",
              "    <div class=\"colab-df-container\">\n",
              "      <div>\n",
              "<style scoped>\n",
              "    .dataframe tbody tr th:only-of-type {\n",
              "        vertical-align: middle;\n",
              "    }\n",
              "\n",
              "    .dataframe tbody tr th {\n",
              "        vertical-align: top;\n",
              "    }\n",
              "\n",
              "    .dataframe thead th {\n",
              "        text-align: right;\n",
              "    }\n",
              "</style>\n",
              "<table border=\"1\" class=\"dataframe\">\n",
              "  <thead>\n",
              "    <tr style=\"text-align: right;\">\n",
              "      <th></th>\n",
              "      <th>address</th>\n",
              "      <th>date</th>\n",
              "      <th>text</th>\n",
              "      <th>Extracted_Text</th>\n",
              "    </tr>\n",
              "  </thead>\n",
              "  <tbody>\n",
              "    <tr>\n",
              "      <th>9</th>\n",
              "      <td>vm-kotakb</td>\n",
              "      <td>2023-05-25 14:09:13.061</td>\n",
              "      <td>you've withdrawn rs2000.00 thru kotak bank deb...</td>\n",
              "      <td>NaN</td>\n",
              "    </tr>\n",
              "    <tr>\n",
              "      <th>5</th>\n",
              "      <td>vm-khtabk</td>\n",
              "      <td>2023-05-26 04:10:41.568</td>\n",
              "      <td>your khatabook verification code is 362918 wk+...</td>\n",
              "      <td>NaN</td>\n",
              "    </tr>\n",
              "    <tr>\n",
              "      <th>4</th>\n",
              "      <td>jm-bobtxn</td>\n",
              "      <td>2023-05-26 06:13:45.486</td>\n",
              "      <td>rs.11 transferred from a/c ...2098 to:upi/3146...</td>\n",
              "      <td>bl amt:rs.7.8</td>\n",
              "    </tr>\n",
              "    <tr>\n",
              "      <th>3</th>\n",
              "      <td>flpkrt</td>\n",
              "      <td>2023-05-26 08:23:30.220</td>\n",
              "      <td>dear customer, complete your flipkart pay late...</td>\n",
              "      <td>NaN</td>\n",
              "    </tr>\n",
              "    <tr>\n",
              "      <th>0</th>\n",
              "      <td>jd-blappl</td>\n",
              "      <td>2023-05-26 09:11:47.302</td>\n",
              "      <td>dear rohit,\\n2992 is your mobile verification ...</td>\n",
              "      <td>NaN</td>\n",
              "    </tr>\n",
              "  </tbody>\n",
              "</table>\n",
              "</div>\n",
              "      <button class=\"colab-df-convert\" onclick=\"convertToInteractive('df-5aab1796-543f-4b5f-8497-035841cca378')\"\n",
              "              title=\"Convert this dataframe to an interactive table.\"\n",
              "              style=\"display:none;\">\n",
              "        \n",
              "  <svg xmlns=\"http://www.w3.org/2000/svg\" height=\"24px\"viewBox=\"0 0 24 24\"\n",
              "       width=\"24px\">\n",
              "    <path d=\"M0 0h24v24H0V0z\" fill=\"none\"/>\n",
              "    <path d=\"M18.56 5.44l.94 2.06.94-2.06 2.06-.94-2.06-.94-.94-2.06-.94 2.06-2.06.94zm-11 1L8.5 8.5l.94-2.06 2.06-.94-2.06-.94L8.5 2.5l-.94 2.06-2.06.94zm10 10l.94 2.06.94-2.06 2.06-.94-2.06-.94-.94-2.06-.94 2.06-2.06.94z\"/><path d=\"M17.41 7.96l-1.37-1.37c-.4-.4-.92-.59-1.43-.59-.52 0-1.04.2-1.43.59L10.3 9.45l-7.72 7.72c-.78.78-.78 2.05 0 2.83L4 21.41c.39.39.9.59 1.41.59.51 0 1.02-.2 1.41-.59l7.78-7.78 2.81-2.81c.8-.78.8-2.07 0-2.86zM5.41 20L4 18.59l7.72-7.72 1.47 1.35L5.41 20z\"/>\n",
              "  </svg>\n",
              "      </button>\n",
              "      \n",
              "  <style>\n",
              "    .colab-df-container {\n",
              "      display:flex;\n",
              "      flex-wrap:wrap;\n",
              "      gap: 12px;\n",
              "    }\n",
              "\n",
              "    .colab-df-convert {\n",
              "      background-color: #E8F0FE;\n",
              "      border: none;\n",
              "      border-radius: 50%;\n",
              "      cursor: pointer;\n",
              "      display: none;\n",
              "      fill: #1967D2;\n",
              "      height: 32px;\n",
              "      padding: 0 0 0 0;\n",
              "      width: 32px;\n",
              "    }\n",
              "\n",
              "    .colab-df-convert:hover {\n",
              "      background-color: #E2EBFA;\n",
              "      box-shadow: 0px 1px 2px rgba(60, 64, 67, 0.3), 0px 1px 3px 1px rgba(60, 64, 67, 0.15);\n",
              "      fill: #174EA6;\n",
              "    }\n",
              "\n",
              "    [theme=dark] .colab-df-convert {\n",
              "      background-color: #3B4455;\n",
              "      fill: #D2E3FC;\n",
              "    }\n",
              "\n",
              "    [theme=dark] .colab-df-convert:hover {\n",
              "      background-color: #434B5C;\n",
              "      box-shadow: 0px 1px 3px 1px rgba(0, 0, 0, 0.15);\n",
              "      filter: drop-shadow(0px 1px 2px rgba(0, 0, 0, 0.3));\n",
              "      fill: #FFFFFF;\n",
              "    }\n",
              "  </style>\n",
              "\n",
              "      <script>\n",
              "        const buttonEl =\n",
              "          document.querySelector('#df-5aab1796-543f-4b5f-8497-035841cca378 button.colab-df-convert');\n",
              "        buttonEl.style.display =\n",
              "          google.colab.kernel.accessAllowed ? 'block' : 'none';\n",
              "\n",
              "        async function convertToInteractive(key) {\n",
              "          const element = document.querySelector('#df-5aab1796-543f-4b5f-8497-035841cca378');\n",
              "          const dataTable =\n",
              "            await google.colab.kernel.invokeFunction('convertToInteractive',\n",
              "                                                     [key], {});\n",
              "          if (!dataTable) return;\n",
              "\n",
              "          const docLinkHtml = 'Like what you see? Visit the ' +\n",
              "            '<a target=\"_blank\" href=https://colab.research.google.com/notebooks/data_table.ipynb>data table notebook</a>'\n",
              "            + ' to learn more about interactive tables.';\n",
              "          element.innerHTML = '';\n",
              "          dataTable['output_type'] = 'display_data';\n",
              "          await google.colab.output.renderOutput(dataTable, element);\n",
              "          const docLink = document.createElement('div');\n",
              "          docLink.innerHTML = docLinkHtml;\n",
              "          element.appendChild(docLink);\n",
              "        }\n",
              "      </script>\n",
              "    </div>\n",
              "  </div>\n",
              "  "
            ]
          },
          "metadata": {},
          "execution_count": 207
        }
      ]
    },
    {
      "cell_type": "code",
      "source": [
        "df.info()"
      ],
      "metadata": {
        "colab": {
          "base_uri": "https://localhost:8080/"
        },
        "id": "WR5LjimyFkZZ",
        "outputId": "ad348e1c-86bd-4f24-815e-9b297652db6f"
      },
      "execution_count": 208,
      "outputs": [
        {
          "output_type": "stream",
          "name": "stdout",
          "text": [
            "<class 'pandas.core.frame.DataFrame'>\n",
            "Int64Index: 252 entries, 244 to 0\n",
            "Data columns (total 4 columns):\n",
            " #   Column          Non-Null Count  Dtype \n",
            "---  ------          --------------  ----- \n",
            " 0   address         252 non-null    object\n",
            " 1   date            252 non-null    object\n",
            " 2   text            252 non-null    object\n",
            " 3   Extracted_Text  55 non-null     object\n",
            "dtypes: object(4)\n",
            "memory usage: 9.8+ KB\n"
          ]
        }
      ]
    },
    {
      "cell_type": "code",
      "source": [
        "# Add 'A' to the extracted text\n",
        "df['Extracted_Text'] = 'a' + df['Extracted_Text']"
      ],
      "metadata": {
        "id": "_cLgYJgURYPo"
      },
      "execution_count": 209,
      "outputs": []
    },
    {
      "cell_type": "code",
      "source": [
        "df.head()"
      ],
      "metadata": {
        "colab": {
          "base_uri": "https://localhost:8080/",
          "height": 206
        },
        "id": "T0GcRN0ISSUt",
        "outputId": "d6936fda-33ad-413c-a429-9fcaf5b2bbe7"
      },
      "execution_count": 210,
      "outputs": [
        {
          "output_type": "execute_result",
          "data": {
            "text/plain": [
              "       address                     date  \\\n",
              "244  ax-kvssms  2021-04-02 05:25:54.091   \n",
              "245  ax-kvssms  2021-04-02 05:26:23.149   \n",
              "246  ax-kvssms  2021-04-02 05:49:34.793   \n",
              "247  ax-kvssms  2021-04-02 05:49:51.822   \n",
              "248  ax-kvssms  2021-04-13 11:59:10.206   \n",
              "\n",
              "                                                  text Extracted_Text  \n",
              "244  dear user, otp for mobile number verification ...            NaN  \n",
              "245  dear mack , thank you for registering. your lo...            NaN  \n",
              "246  dear user, otp for application form submission...            NaN  \n",
              "247  dear mack,we have received your application. y...            NaN  \n",
              "248  dear user, otp for application form cancellati...            NaN  "
            ],
            "text/html": [
              "\n",
              "  <div id=\"df-0796d225-8689-4fde-b19a-5dc08119c238\">\n",
              "    <div class=\"colab-df-container\">\n",
              "      <div>\n",
              "<style scoped>\n",
              "    .dataframe tbody tr th:only-of-type {\n",
              "        vertical-align: middle;\n",
              "    }\n",
              "\n",
              "    .dataframe tbody tr th {\n",
              "        vertical-align: top;\n",
              "    }\n",
              "\n",
              "    .dataframe thead th {\n",
              "        text-align: right;\n",
              "    }\n",
              "</style>\n",
              "<table border=\"1\" class=\"dataframe\">\n",
              "  <thead>\n",
              "    <tr style=\"text-align: right;\">\n",
              "      <th></th>\n",
              "      <th>address</th>\n",
              "      <th>date</th>\n",
              "      <th>text</th>\n",
              "      <th>Extracted_Text</th>\n",
              "    </tr>\n",
              "  </thead>\n",
              "  <tbody>\n",
              "    <tr>\n",
              "      <th>244</th>\n",
              "      <td>ax-kvssms</td>\n",
              "      <td>2021-04-02 05:25:54.091</td>\n",
              "      <td>dear user, otp for mobile number verification ...</td>\n",
              "      <td>NaN</td>\n",
              "    </tr>\n",
              "    <tr>\n",
              "      <th>245</th>\n",
              "      <td>ax-kvssms</td>\n",
              "      <td>2021-04-02 05:26:23.149</td>\n",
              "      <td>dear mack , thank you for registering. your lo...</td>\n",
              "      <td>NaN</td>\n",
              "    </tr>\n",
              "    <tr>\n",
              "      <th>246</th>\n",
              "      <td>ax-kvssms</td>\n",
              "      <td>2021-04-02 05:49:34.793</td>\n",
              "      <td>dear user, otp for application form submission...</td>\n",
              "      <td>NaN</td>\n",
              "    </tr>\n",
              "    <tr>\n",
              "      <th>247</th>\n",
              "      <td>ax-kvssms</td>\n",
              "      <td>2021-04-02 05:49:51.822</td>\n",
              "      <td>dear mack,we have received your application. y...</td>\n",
              "      <td>NaN</td>\n",
              "    </tr>\n",
              "    <tr>\n",
              "      <th>248</th>\n",
              "      <td>ax-kvssms</td>\n",
              "      <td>2021-04-13 11:59:10.206</td>\n",
              "      <td>dear user, otp for application form cancellati...</td>\n",
              "      <td>NaN</td>\n",
              "    </tr>\n",
              "  </tbody>\n",
              "</table>\n",
              "</div>\n",
              "      <button class=\"colab-df-convert\" onclick=\"convertToInteractive('df-0796d225-8689-4fde-b19a-5dc08119c238')\"\n",
              "              title=\"Convert this dataframe to an interactive table.\"\n",
              "              style=\"display:none;\">\n",
              "        \n",
              "  <svg xmlns=\"http://www.w3.org/2000/svg\" height=\"24px\"viewBox=\"0 0 24 24\"\n",
              "       width=\"24px\">\n",
              "    <path d=\"M0 0h24v24H0V0z\" fill=\"none\"/>\n",
              "    <path d=\"M18.56 5.44l.94 2.06.94-2.06 2.06-.94-2.06-.94-.94-2.06-.94 2.06-2.06.94zm-11 1L8.5 8.5l.94-2.06 2.06-.94-2.06-.94L8.5 2.5l-.94 2.06-2.06.94zm10 10l.94 2.06.94-2.06 2.06-.94-2.06-.94-.94-2.06-.94 2.06-2.06.94z\"/><path d=\"M17.41 7.96l-1.37-1.37c-.4-.4-.92-.59-1.43-.59-.52 0-1.04.2-1.43.59L10.3 9.45l-7.72 7.72c-.78.78-.78 2.05 0 2.83L4 21.41c.39.39.9.59 1.41.59.51 0 1.02-.2 1.41-.59l7.78-7.78 2.81-2.81c.8-.78.8-2.07 0-2.86zM5.41 20L4 18.59l7.72-7.72 1.47 1.35L5.41 20z\"/>\n",
              "  </svg>\n",
              "      </button>\n",
              "      \n",
              "  <style>\n",
              "    .colab-df-container {\n",
              "      display:flex;\n",
              "      flex-wrap:wrap;\n",
              "      gap: 12px;\n",
              "    }\n",
              "\n",
              "    .colab-df-convert {\n",
              "      background-color: #E8F0FE;\n",
              "      border: none;\n",
              "      border-radius: 50%;\n",
              "      cursor: pointer;\n",
              "      display: none;\n",
              "      fill: #1967D2;\n",
              "      height: 32px;\n",
              "      padding: 0 0 0 0;\n",
              "      width: 32px;\n",
              "    }\n",
              "\n",
              "    .colab-df-convert:hover {\n",
              "      background-color: #E2EBFA;\n",
              "      box-shadow: 0px 1px 2px rgba(60, 64, 67, 0.3), 0px 1px 3px 1px rgba(60, 64, 67, 0.15);\n",
              "      fill: #174EA6;\n",
              "    }\n",
              "\n",
              "    [theme=dark] .colab-df-convert {\n",
              "      background-color: #3B4455;\n",
              "      fill: #D2E3FC;\n",
              "    }\n",
              "\n",
              "    [theme=dark] .colab-df-convert:hover {\n",
              "      background-color: #434B5C;\n",
              "      box-shadow: 0px 1px 3px 1px rgba(0, 0, 0, 0.15);\n",
              "      filter: drop-shadow(0px 1px 2px rgba(0, 0, 0, 0.3));\n",
              "      fill: #FFFFFF;\n",
              "    }\n",
              "  </style>\n",
              "\n",
              "      <script>\n",
              "        const buttonEl =\n",
              "          document.querySelector('#df-0796d225-8689-4fde-b19a-5dc08119c238 button.colab-df-convert');\n",
              "        buttonEl.style.display =\n",
              "          google.colab.kernel.accessAllowed ? 'block' : 'none';\n",
              "\n",
              "        async function convertToInteractive(key) {\n",
              "          const element = document.querySelector('#df-0796d225-8689-4fde-b19a-5dc08119c238');\n",
              "          const dataTable =\n",
              "            await google.colab.kernel.invokeFunction('convertToInteractive',\n",
              "                                                     [key], {});\n",
              "          if (!dataTable) return;\n",
              "\n",
              "          const docLinkHtml = 'Like what you see? Visit the ' +\n",
              "            '<a target=\"_blank\" href=https://colab.research.google.com/notebooks/data_table.ipynb>data table notebook</a>'\n",
              "            + ' to learn more about interactive tables.';\n",
              "          element.innerHTML = '';\n",
              "          dataTable['output_type'] = 'display_data';\n",
              "          await google.colab.output.renderOutput(dataTable, element);\n",
              "          const docLink = document.createElement('div');\n",
              "          docLink.innerHTML = docLinkHtml;\n",
              "          element.appendChild(docLink);\n",
              "        }\n",
              "      </script>\n",
              "    </div>\n",
              "  </div>\n",
              "  "
            ]
          },
          "metadata": {},
          "execution_count": 210
        }
      ]
    },
    {
      "cell_type": "code",
      "source": [
        "df.shape"
      ],
      "metadata": {
        "colab": {
          "base_uri": "https://localhost:8080/"
        },
        "id": "jOJcqMwKS4mw",
        "outputId": "957e771e-931e-437e-ec3e-0111b8623a71"
      },
      "execution_count": 211,
      "outputs": [
        {
          "output_type": "execute_result",
          "data": {
            "text/plain": [
              "(252, 4)"
            ]
          },
          "metadata": {},
          "execution_count": 211
        }
      ]
    },
    {
      "cell_type": "code",
      "source": [
        "# Remove rows with null values in 'Column2'\n",
        "df = df.dropna(subset=['Extracted_Text'])"
      ],
      "metadata": {
        "id": "cLbEOp83S6UG"
      },
      "execution_count": 212,
      "outputs": []
    },
    {
      "cell_type": "code",
      "source": [
        "df.shape"
      ],
      "metadata": {
        "colab": {
          "base_uri": "https://localhost:8080/"
        },
        "id": "r36nFmrrS8mO",
        "outputId": "3f0596b2-abe0-4d76-ceab-e60f9d5ed339"
      },
      "execution_count": 213,
      "outputs": [
        {
          "output_type": "execute_result",
          "data": {
            "text/plain": [
              "(55, 4)"
            ]
          },
          "metadata": {},
          "execution_count": 213
        }
      ]
    },
    {
      "cell_type": "code",
      "source": [
        "# Remove three columns as index base\n",
        "#df.drop(df.columns[['text']], axis=1, inplace=True)\n",
        "\n",
        "df.drop(columns=['text','address'], inplace=True)"
      ],
      "metadata": {
        "colab": {
          "base_uri": "https://localhost:8080/"
        },
        "id": "QAKnxIeGSTz8",
        "outputId": "d0ae30f0-a972-4919-90de-91061c262809"
      },
      "execution_count": 214,
      "outputs": [
        {
          "output_type": "stream",
          "name": "stderr",
          "text": [
            "<ipython-input-214-1e2548171b56>:4: SettingWithCopyWarning: \n",
            "A value is trying to be set on a copy of a slice from a DataFrame\n",
            "\n",
            "See the caveats in the documentation: https://pandas.pydata.org/pandas-docs/stable/user_guide/indexing.html#returning-a-view-versus-a-copy\n",
            "  df.drop(columns=['text','address'], inplace=True)\n"
          ]
        }
      ]
    },
    {
      "cell_type": "code",
      "source": [
        "df.head()"
      ],
      "metadata": {
        "colab": {
          "base_uri": "https://localhost:8080/",
          "height": 206
        },
        "id": "J6WvD1UATC-n",
        "outputId": "15f2810e-5b27-4b0f-f7f5-e96c08dceedf"
      },
      "execution_count": 215,
      "outputs": [
        {
          "output_type": "execute_result",
          "data": {
            "text/plain": [
              "                        date      Extracted_Text\n",
              "150  2022-12-18 10:39:53.650  abl amt:rs.2030.64\n",
              "22   2023-04-13 07:06:36.721  abl amt:rs.4191.58\n",
              "23   2023-04-14 05:03:19.082  abl amt:rs.4111.58\n",
              "24   2023-04-14 08:16:27.208  abl amt:rs.4041.58\n",
              "25   2023-04-15 14:18:22.250  abl amt:rs.3050.58"
            ],
            "text/html": [
              "\n",
              "  <div id=\"df-afe591b9-6f29-4af8-a27a-bdb22a61b8a0\">\n",
              "    <div class=\"colab-df-container\">\n",
              "      <div>\n",
              "<style scoped>\n",
              "    .dataframe tbody tr th:only-of-type {\n",
              "        vertical-align: middle;\n",
              "    }\n",
              "\n",
              "    .dataframe tbody tr th {\n",
              "        vertical-align: top;\n",
              "    }\n",
              "\n",
              "    .dataframe thead th {\n",
              "        text-align: right;\n",
              "    }\n",
              "</style>\n",
              "<table border=\"1\" class=\"dataframe\">\n",
              "  <thead>\n",
              "    <tr style=\"text-align: right;\">\n",
              "      <th></th>\n",
              "      <th>date</th>\n",
              "      <th>Extracted_Text</th>\n",
              "    </tr>\n",
              "  </thead>\n",
              "  <tbody>\n",
              "    <tr>\n",
              "      <th>150</th>\n",
              "      <td>2022-12-18 10:39:53.650</td>\n",
              "      <td>abl amt:rs.2030.64</td>\n",
              "    </tr>\n",
              "    <tr>\n",
              "      <th>22</th>\n",
              "      <td>2023-04-13 07:06:36.721</td>\n",
              "      <td>abl amt:rs.4191.58</td>\n",
              "    </tr>\n",
              "    <tr>\n",
              "      <th>23</th>\n",
              "      <td>2023-04-14 05:03:19.082</td>\n",
              "      <td>abl amt:rs.4111.58</td>\n",
              "    </tr>\n",
              "    <tr>\n",
              "      <th>24</th>\n",
              "      <td>2023-04-14 08:16:27.208</td>\n",
              "      <td>abl amt:rs.4041.58</td>\n",
              "    </tr>\n",
              "    <tr>\n",
              "      <th>25</th>\n",
              "      <td>2023-04-15 14:18:22.250</td>\n",
              "      <td>abl amt:rs.3050.58</td>\n",
              "    </tr>\n",
              "  </tbody>\n",
              "</table>\n",
              "</div>\n",
              "      <button class=\"colab-df-convert\" onclick=\"convertToInteractive('df-afe591b9-6f29-4af8-a27a-bdb22a61b8a0')\"\n",
              "              title=\"Convert this dataframe to an interactive table.\"\n",
              "              style=\"display:none;\">\n",
              "        \n",
              "  <svg xmlns=\"http://www.w3.org/2000/svg\" height=\"24px\"viewBox=\"0 0 24 24\"\n",
              "       width=\"24px\">\n",
              "    <path d=\"M0 0h24v24H0V0z\" fill=\"none\"/>\n",
              "    <path d=\"M18.56 5.44l.94 2.06.94-2.06 2.06-.94-2.06-.94-.94-2.06-.94 2.06-2.06.94zm-11 1L8.5 8.5l.94-2.06 2.06-.94-2.06-.94L8.5 2.5l-.94 2.06-2.06.94zm10 10l.94 2.06.94-2.06 2.06-.94-2.06-.94-.94-2.06-.94 2.06-2.06.94z\"/><path d=\"M17.41 7.96l-1.37-1.37c-.4-.4-.92-.59-1.43-.59-.52 0-1.04.2-1.43.59L10.3 9.45l-7.72 7.72c-.78.78-.78 2.05 0 2.83L4 21.41c.39.39.9.59 1.41.59.51 0 1.02-.2 1.41-.59l7.78-7.78 2.81-2.81c.8-.78.8-2.07 0-2.86zM5.41 20L4 18.59l7.72-7.72 1.47 1.35L5.41 20z\"/>\n",
              "  </svg>\n",
              "      </button>\n",
              "      \n",
              "  <style>\n",
              "    .colab-df-container {\n",
              "      display:flex;\n",
              "      flex-wrap:wrap;\n",
              "      gap: 12px;\n",
              "    }\n",
              "\n",
              "    .colab-df-convert {\n",
              "      background-color: #E8F0FE;\n",
              "      border: none;\n",
              "      border-radius: 50%;\n",
              "      cursor: pointer;\n",
              "      display: none;\n",
              "      fill: #1967D2;\n",
              "      height: 32px;\n",
              "      padding: 0 0 0 0;\n",
              "      width: 32px;\n",
              "    }\n",
              "\n",
              "    .colab-df-convert:hover {\n",
              "      background-color: #E2EBFA;\n",
              "      box-shadow: 0px 1px 2px rgba(60, 64, 67, 0.3), 0px 1px 3px 1px rgba(60, 64, 67, 0.15);\n",
              "      fill: #174EA6;\n",
              "    }\n",
              "\n",
              "    [theme=dark] .colab-df-convert {\n",
              "      background-color: #3B4455;\n",
              "      fill: #D2E3FC;\n",
              "    }\n",
              "\n",
              "    [theme=dark] .colab-df-convert:hover {\n",
              "      background-color: #434B5C;\n",
              "      box-shadow: 0px 1px 3px 1px rgba(0, 0, 0, 0.15);\n",
              "      filter: drop-shadow(0px 1px 2px rgba(0, 0, 0, 0.3));\n",
              "      fill: #FFFFFF;\n",
              "    }\n",
              "  </style>\n",
              "\n",
              "      <script>\n",
              "        const buttonEl =\n",
              "          document.querySelector('#df-afe591b9-6f29-4af8-a27a-bdb22a61b8a0 button.colab-df-convert');\n",
              "        buttonEl.style.display =\n",
              "          google.colab.kernel.accessAllowed ? 'block' : 'none';\n",
              "\n",
              "        async function convertToInteractive(key) {\n",
              "          const element = document.querySelector('#df-afe591b9-6f29-4af8-a27a-bdb22a61b8a0');\n",
              "          const dataTable =\n",
              "            await google.colab.kernel.invokeFunction('convertToInteractive',\n",
              "                                                     [key], {});\n",
              "          if (!dataTable) return;\n",
              "\n",
              "          const docLinkHtml = 'Like what you see? Visit the ' +\n",
              "            '<a target=\"_blank\" href=https://colab.research.google.com/notebooks/data_table.ipynb>data table notebook</a>'\n",
              "            + ' to learn more about interactive tables.';\n",
              "          element.innerHTML = '';\n",
              "          dataTable['output_type'] = 'display_data';\n",
              "          await google.colab.output.renderOutput(dataTable, element);\n",
              "          const docLink = document.createElement('div');\n",
              "          docLink.innerHTML = docLinkHtml;\n",
              "          element.appendChild(docLink);\n",
              "        }\n",
              "      </script>\n",
              "    </div>\n",
              "  </div>\n",
              "  "
            ]
          },
          "metadata": {},
          "execution_count": 215
        }
      ]
    },
    {
      "cell_type": "code",
      "source": [
        "df.tail()"
      ],
      "metadata": {
        "colab": {
          "base_uri": "https://localhost:8080/",
          "height": 206
        },
        "id": "ScdPQeX6TS8y",
        "outputId": "91f7a38e-768f-4b4a-a36f-c45a5f8d7f74"
      },
      "execution_count": 216,
      "outputs": [
        {
          "output_type": "execute_result",
          "data": {
            "text/plain": [
              "                       date    Extracted_Text\n",
              "71  2023-05-15 07:04:45.866  abl amt:rs.600.8\n",
              "72  2023-05-15 14:38:14.129  abl amt:rs.183.8\n",
              "73  2023-05-16 15:13:17.065   abl amt:rs.14.8\n",
              "74  2023-05-19 09:34:36.329   abl amt:rs.13.8\n",
              "4   2023-05-26 06:13:45.486    abl amt:rs.7.8"
            ],
            "text/html": [
              "\n",
              "  <div id=\"df-db9e6217-a190-4293-b08e-ab168b9bd4da\">\n",
              "    <div class=\"colab-df-container\">\n",
              "      <div>\n",
              "<style scoped>\n",
              "    .dataframe tbody tr th:only-of-type {\n",
              "        vertical-align: middle;\n",
              "    }\n",
              "\n",
              "    .dataframe tbody tr th {\n",
              "        vertical-align: top;\n",
              "    }\n",
              "\n",
              "    .dataframe thead th {\n",
              "        text-align: right;\n",
              "    }\n",
              "</style>\n",
              "<table border=\"1\" class=\"dataframe\">\n",
              "  <thead>\n",
              "    <tr style=\"text-align: right;\">\n",
              "      <th></th>\n",
              "      <th>date</th>\n",
              "      <th>Extracted_Text</th>\n",
              "    </tr>\n",
              "  </thead>\n",
              "  <tbody>\n",
              "    <tr>\n",
              "      <th>71</th>\n",
              "      <td>2023-05-15 07:04:45.866</td>\n",
              "      <td>abl amt:rs.600.8</td>\n",
              "    </tr>\n",
              "    <tr>\n",
              "      <th>72</th>\n",
              "      <td>2023-05-15 14:38:14.129</td>\n",
              "      <td>abl amt:rs.183.8</td>\n",
              "    </tr>\n",
              "    <tr>\n",
              "      <th>73</th>\n",
              "      <td>2023-05-16 15:13:17.065</td>\n",
              "      <td>abl amt:rs.14.8</td>\n",
              "    </tr>\n",
              "    <tr>\n",
              "      <th>74</th>\n",
              "      <td>2023-05-19 09:34:36.329</td>\n",
              "      <td>abl amt:rs.13.8</td>\n",
              "    </tr>\n",
              "    <tr>\n",
              "      <th>4</th>\n",
              "      <td>2023-05-26 06:13:45.486</td>\n",
              "      <td>abl amt:rs.7.8</td>\n",
              "    </tr>\n",
              "  </tbody>\n",
              "</table>\n",
              "</div>\n",
              "      <button class=\"colab-df-convert\" onclick=\"convertToInteractive('df-db9e6217-a190-4293-b08e-ab168b9bd4da')\"\n",
              "              title=\"Convert this dataframe to an interactive table.\"\n",
              "              style=\"display:none;\">\n",
              "        \n",
              "  <svg xmlns=\"http://www.w3.org/2000/svg\" height=\"24px\"viewBox=\"0 0 24 24\"\n",
              "       width=\"24px\">\n",
              "    <path d=\"M0 0h24v24H0V0z\" fill=\"none\"/>\n",
              "    <path d=\"M18.56 5.44l.94 2.06.94-2.06 2.06-.94-2.06-.94-.94-2.06-.94 2.06-2.06.94zm-11 1L8.5 8.5l.94-2.06 2.06-.94-2.06-.94L8.5 2.5l-.94 2.06-2.06.94zm10 10l.94 2.06.94-2.06 2.06-.94-2.06-.94-.94-2.06-.94 2.06-2.06.94z\"/><path d=\"M17.41 7.96l-1.37-1.37c-.4-.4-.92-.59-1.43-.59-.52 0-1.04.2-1.43.59L10.3 9.45l-7.72 7.72c-.78.78-.78 2.05 0 2.83L4 21.41c.39.39.9.59 1.41.59.51 0 1.02-.2 1.41-.59l7.78-7.78 2.81-2.81c.8-.78.8-2.07 0-2.86zM5.41 20L4 18.59l7.72-7.72 1.47 1.35L5.41 20z\"/>\n",
              "  </svg>\n",
              "      </button>\n",
              "      \n",
              "  <style>\n",
              "    .colab-df-container {\n",
              "      display:flex;\n",
              "      flex-wrap:wrap;\n",
              "      gap: 12px;\n",
              "    }\n",
              "\n",
              "    .colab-df-convert {\n",
              "      background-color: #E8F0FE;\n",
              "      border: none;\n",
              "      border-radius: 50%;\n",
              "      cursor: pointer;\n",
              "      display: none;\n",
              "      fill: #1967D2;\n",
              "      height: 32px;\n",
              "      padding: 0 0 0 0;\n",
              "      width: 32px;\n",
              "    }\n",
              "\n",
              "    .colab-df-convert:hover {\n",
              "      background-color: #E2EBFA;\n",
              "      box-shadow: 0px 1px 2px rgba(60, 64, 67, 0.3), 0px 1px 3px 1px rgba(60, 64, 67, 0.15);\n",
              "      fill: #174EA6;\n",
              "    }\n",
              "\n",
              "    [theme=dark] .colab-df-convert {\n",
              "      background-color: #3B4455;\n",
              "      fill: #D2E3FC;\n",
              "    }\n",
              "\n",
              "    [theme=dark] .colab-df-convert:hover {\n",
              "      background-color: #434B5C;\n",
              "      box-shadow: 0px 1px 3px 1px rgba(0, 0, 0, 0.15);\n",
              "      filter: drop-shadow(0px 1px 2px rgba(0, 0, 0, 0.3));\n",
              "      fill: #FFFFFF;\n",
              "    }\n",
              "  </style>\n",
              "\n",
              "      <script>\n",
              "        const buttonEl =\n",
              "          document.querySelector('#df-db9e6217-a190-4293-b08e-ab168b9bd4da button.colab-df-convert');\n",
              "        buttonEl.style.display =\n",
              "          google.colab.kernel.accessAllowed ? 'block' : 'none';\n",
              "\n",
              "        async function convertToInteractive(key) {\n",
              "          const element = document.querySelector('#df-db9e6217-a190-4293-b08e-ab168b9bd4da');\n",
              "          const dataTable =\n",
              "            await google.colab.kernel.invokeFunction('convertToInteractive',\n",
              "                                                     [key], {});\n",
              "          if (!dataTable) return;\n",
              "\n",
              "          const docLinkHtml = 'Like what you see? Visit the ' +\n",
              "            '<a target=\"_blank\" href=https://colab.research.google.com/notebooks/data_table.ipynb>data table notebook</a>'\n",
              "            + ' to learn more about interactive tables.';\n",
              "          element.innerHTML = '';\n",
              "          dataTable['output_type'] = 'display_data';\n",
              "          await google.colab.output.renderOutput(dataTable, element);\n",
              "          const docLink = document.createElement('div');\n",
              "          docLink.innerHTML = docLinkHtml;\n",
              "          element.appendChild(docLink);\n",
              "        }\n",
              "      </script>\n",
              "    </div>\n",
              "  </div>\n",
              "  "
            ]
          },
          "metadata": {},
          "execution_count": 216
        }
      ]
    },
    {
      "cell_type": "markdown",
      "source": [
        "# The account is in bank of baroda and there are 55 txns will plot them against the time series"
      ],
      "metadata": {
        "id": "sevag_bDTjTo"
      }
    },
    {
      "cell_type": "code",
      "source": [
        "substring = 'rs.'\n",
        "df['avl_bal'] = df['Extracted_Text'].str.split(substring).str[1]\n"
      ],
      "metadata": {
        "colab": {
          "base_uri": "https://localhost:8080/"
        },
        "id": "JrRodORNTZK9",
        "outputId": "9ab74162-144d-43e3-c48d-1d265992a126"
      },
      "execution_count": 217,
      "outputs": [
        {
          "output_type": "stream",
          "name": "stderr",
          "text": [
            "<ipython-input-217-1af37e0b46e8>:2: SettingWithCopyWarning: \n",
            "A value is trying to be set on a copy of a slice from a DataFrame.\n",
            "Try using .loc[row_indexer,col_indexer] = value instead\n",
            "\n",
            "See the caveats in the documentation: https://pandas.pydata.org/pandas-docs/stable/user_guide/indexing.html#returning-a-view-versus-a-copy\n",
            "  df['avl_bal'] = df['Extracted_Text'].str.split(substring).str[1]\n"
          ]
        }
      ]
    },
    {
      "cell_type": "code",
      "source": [
        "df.tail()"
      ],
      "metadata": {
        "colab": {
          "base_uri": "https://localhost:8080/",
          "height": 206
        },
        "id": "SYkzKHSwUaa5",
        "outputId": "39008146-48ee-46f2-f7d7-358bba109fe4"
      },
      "execution_count": 218,
      "outputs": [
        {
          "output_type": "execute_result",
          "data": {
            "text/plain": [
              "                       date    Extracted_Text avl_bal\n",
              "71  2023-05-15 07:04:45.866  abl amt:rs.600.8   600.8\n",
              "72  2023-05-15 14:38:14.129  abl amt:rs.183.8   183.8\n",
              "73  2023-05-16 15:13:17.065   abl amt:rs.14.8    14.8\n",
              "74  2023-05-19 09:34:36.329   abl amt:rs.13.8    13.8\n",
              "4   2023-05-26 06:13:45.486    abl amt:rs.7.8     7.8"
            ],
            "text/html": [
              "\n",
              "  <div id=\"df-ed68b233-6cda-47c0-bfa6-5b7b07a5ff29\">\n",
              "    <div class=\"colab-df-container\">\n",
              "      <div>\n",
              "<style scoped>\n",
              "    .dataframe tbody tr th:only-of-type {\n",
              "        vertical-align: middle;\n",
              "    }\n",
              "\n",
              "    .dataframe tbody tr th {\n",
              "        vertical-align: top;\n",
              "    }\n",
              "\n",
              "    .dataframe thead th {\n",
              "        text-align: right;\n",
              "    }\n",
              "</style>\n",
              "<table border=\"1\" class=\"dataframe\">\n",
              "  <thead>\n",
              "    <tr style=\"text-align: right;\">\n",
              "      <th></th>\n",
              "      <th>date</th>\n",
              "      <th>Extracted_Text</th>\n",
              "      <th>avl_bal</th>\n",
              "    </tr>\n",
              "  </thead>\n",
              "  <tbody>\n",
              "    <tr>\n",
              "      <th>71</th>\n",
              "      <td>2023-05-15 07:04:45.866</td>\n",
              "      <td>abl amt:rs.600.8</td>\n",
              "      <td>600.8</td>\n",
              "    </tr>\n",
              "    <tr>\n",
              "      <th>72</th>\n",
              "      <td>2023-05-15 14:38:14.129</td>\n",
              "      <td>abl amt:rs.183.8</td>\n",
              "      <td>183.8</td>\n",
              "    </tr>\n",
              "    <tr>\n",
              "      <th>73</th>\n",
              "      <td>2023-05-16 15:13:17.065</td>\n",
              "      <td>abl amt:rs.14.8</td>\n",
              "      <td>14.8</td>\n",
              "    </tr>\n",
              "    <tr>\n",
              "      <th>74</th>\n",
              "      <td>2023-05-19 09:34:36.329</td>\n",
              "      <td>abl amt:rs.13.8</td>\n",
              "      <td>13.8</td>\n",
              "    </tr>\n",
              "    <tr>\n",
              "      <th>4</th>\n",
              "      <td>2023-05-26 06:13:45.486</td>\n",
              "      <td>abl amt:rs.7.8</td>\n",
              "      <td>7.8</td>\n",
              "    </tr>\n",
              "  </tbody>\n",
              "</table>\n",
              "</div>\n",
              "      <button class=\"colab-df-convert\" onclick=\"convertToInteractive('df-ed68b233-6cda-47c0-bfa6-5b7b07a5ff29')\"\n",
              "              title=\"Convert this dataframe to an interactive table.\"\n",
              "              style=\"display:none;\">\n",
              "        \n",
              "  <svg xmlns=\"http://www.w3.org/2000/svg\" height=\"24px\"viewBox=\"0 0 24 24\"\n",
              "       width=\"24px\">\n",
              "    <path d=\"M0 0h24v24H0V0z\" fill=\"none\"/>\n",
              "    <path d=\"M18.56 5.44l.94 2.06.94-2.06 2.06-.94-2.06-.94-.94-2.06-.94 2.06-2.06.94zm-11 1L8.5 8.5l.94-2.06 2.06-.94-2.06-.94L8.5 2.5l-.94 2.06-2.06.94zm10 10l.94 2.06.94-2.06 2.06-.94-2.06-.94-.94-2.06-.94 2.06-2.06.94z\"/><path d=\"M17.41 7.96l-1.37-1.37c-.4-.4-.92-.59-1.43-.59-.52 0-1.04.2-1.43.59L10.3 9.45l-7.72 7.72c-.78.78-.78 2.05 0 2.83L4 21.41c.39.39.9.59 1.41.59.51 0 1.02-.2 1.41-.59l7.78-7.78 2.81-2.81c.8-.78.8-2.07 0-2.86zM5.41 20L4 18.59l7.72-7.72 1.47 1.35L5.41 20z\"/>\n",
              "  </svg>\n",
              "      </button>\n",
              "      \n",
              "  <style>\n",
              "    .colab-df-container {\n",
              "      display:flex;\n",
              "      flex-wrap:wrap;\n",
              "      gap: 12px;\n",
              "    }\n",
              "\n",
              "    .colab-df-convert {\n",
              "      background-color: #E8F0FE;\n",
              "      border: none;\n",
              "      border-radius: 50%;\n",
              "      cursor: pointer;\n",
              "      display: none;\n",
              "      fill: #1967D2;\n",
              "      height: 32px;\n",
              "      padding: 0 0 0 0;\n",
              "      width: 32px;\n",
              "    }\n",
              "\n",
              "    .colab-df-convert:hover {\n",
              "      background-color: #E2EBFA;\n",
              "      box-shadow: 0px 1px 2px rgba(60, 64, 67, 0.3), 0px 1px 3px 1px rgba(60, 64, 67, 0.15);\n",
              "      fill: #174EA6;\n",
              "    }\n",
              "\n",
              "    [theme=dark] .colab-df-convert {\n",
              "      background-color: #3B4455;\n",
              "      fill: #D2E3FC;\n",
              "    }\n",
              "\n",
              "    [theme=dark] .colab-df-convert:hover {\n",
              "      background-color: #434B5C;\n",
              "      box-shadow: 0px 1px 3px 1px rgba(0, 0, 0, 0.15);\n",
              "      filter: drop-shadow(0px 1px 2px rgba(0, 0, 0, 0.3));\n",
              "      fill: #FFFFFF;\n",
              "    }\n",
              "  </style>\n",
              "\n",
              "      <script>\n",
              "        const buttonEl =\n",
              "          document.querySelector('#df-ed68b233-6cda-47c0-bfa6-5b7b07a5ff29 button.colab-df-convert');\n",
              "        buttonEl.style.display =\n",
              "          google.colab.kernel.accessAllowed ? 'block' : 'none';\n",
              "\n",
              "        async function convertToInteractive(key) {\n",
              "          const element = document.querySelector('#df-ed68b233-6cda-47c0-bfa6-5b7b07a5ff29');\n",
              "          const dataTable =\n",
              "            await google.colab.kernel.invokeFunction('convertToInteractive',\n",
              "                                                     [key], {});\n",
              "          if (!dataTable) return;\n",
              "\n",
              "          const docLinkHtml = 'Like what you see? Visit the ' +\n",
              "            '<a target=\"_blank\" href=https://colab.research.google.com/notebooks/data_table.ipynb>data table notebook</a>'\n",
              "            + ' to learn more about interactive tables.';\n",
              "          element.innerHTML = '';\n",
              "          dataTable['output_type'] = 'display_data';\n",
              "          await google.colab.output.renderOutput(dataTable, element);\n",
              "          const docLink = document.createElement('div');\n",
              "          docLink.innerHTML = docLinkHtml;\n",
              "          element.appendChild(docLink);\n",
              "        }\n",
              "      </script>\n",
              "    </div>\n",
              "  </div>\n",
              "  "
            ]
          },
          "metadata": {},
          "execution_count": 218
        }
      ]
    },
    {
      "cell_type": "code",
      "source": [
        "# Convert datetime column to yyyy-mm-dd format\n",
        "df['date'] = pd.to_datetime(df['date']).dt.strftime('%Y-%m-%d')\n"
      ],
      "metadata": {
        "colab": {
          "base_uri": "https://localhost:8080/"
        },
        "id": "puKgMmGpUd1M",
        "outputId": "cb941754-184a-4230-981d-f480adc9816a"
      },
      "execution_count": 219,
      "outputs": [
        {
          "output_type": "stream",
          "name": "stderr",
          "text": [
            "<ipython-input-219-6dda8b961af1>:2: SettingWithCopyWarning: \n",
            "A value is trying to be set on a copy of a slice from a DataFrame.\n",
            "Try using .loc[row_indexer,col_indexer] = value instead\n",
            "\n",
            "See the caveats in the documentation: https://pandas.pydata.org/pandas-docs/stable/user_guide/indexing.html#returning-a-view-versus-a-copy\n",
            "  df['date'] = pd.to_datetime(df['date']).dt.strftime('%Y-%m-%d')\n"
          ]
        }
      ]
    },
    {
      "cell_type": "code",
      "source": [
        "df.head()"
      ],
      "metadata": {
        "colab": {
          "base_uri": "https://localhost:8080/",
          "height": 206
        },
        "id": "3tUiN3cahKTg",
        "outputId": "7b4c6082-b376-47eb-9182-aa5103a82061"
      },
      "execution_count": 220,
      "outputs": [
        {
          "output_type": "execute_result",
          "data": {
            "text/plain": [
              "           date      Extracted_Text  avl_bal\n",
              "150  2022-12-18  abl amt:rs.2030.64  2030.64\n",
              "22   2023-04-13  abl amt:rs.4191.58  4191.58\n",
              "23   2023-04-14  abl amt:rs.4111.58  4111.58\n",
              "24   2023-04-14  abl amt:rs.4041.58  4041.58\n",
              "25   2023-04-15  abl amt:rs.3050.58  3050.58"
            ],
            "text/html": [
              "\n",
              "  <div id=\"df-4b0e7b3b-6723-483f-9049-d0d33b3241e6\">\n",
              "    <div class=\"colab-df-container\">\n",
              "      <div>\n",
              "<style scoped>\n",
              "    .dataframe tbody tr th:only-of-type {\n",
              "        vertical-align: middle;\n",
              "    }\n",
              "\n",
              "    .dataframe tbody tr th {\n",
              "        vertical-align: top;\n",
              "    }\n",
              "\n",
              "    .dataframe thead th {\n",
              "        text-align: right;\n",
              "    }\n",
              "</style>\n",
              "<table border=\"1\" class=\"dataframe\">\n",
              "  <thead>\n",
              "    <tr style=\"text-align: right;\">\n",
              "      <th></th>\n",
              "      <th>date</th>\n",
              "      <th>Extracted_Text</th>\n",
              "      <th>avl_bal</th>\n",
              "    </tr>\n",
              "  </thead>\n",
              "  <tbody>\n",
              "    <tr>\n",
              "      <th>150</th>\n",
              "      <td>2022-12-18</td>\n",
              "      <td>abl amt:rs.2030.64</td>\n",
              "      <td>2030.64</td>\n",
              "    </tr>\n",
              "    <tr>\n",
              "      <th>22</th>\n",
              "      <td>2023-04-13</td>\n",
              "      <td>abl amt:rs.4191.58</td>\n",
              "      <td>4191.58</td>\n",
              "    </tr>\n",
              "    <tr>\n",
              "      <th>23</th>\n",
              "      <td>2023-04-14</td>\n",
              "      <td>abl amt:rs.4111.58</td>\n",
              "      <td>4111.58</td>\n",
              "    </tr>\n",
              "    <tr>\n",
              "      <th>24</th>\n",
              "      <td>2023-04-14</td>\n",
              "      <td>abl amt:rs.4041.58</td>\n",
              "      <td>4041.58</td>\n",
              "    </tr>\n",
              "    <tr>\n",
              "      <th>25</th>\n",
              "      <td>2023-04-15</td>\n",
              "      <td>abl amt:rs.3050.58</td>\n",
              "      <td>3050.58</td>\n",
              "    </tr>\n",
              "  </tbody>\n",
              "</table>\n",
              "</div>\n",
              "      <button class=\"colab-df-convert\" onclick=\"convertToInteractive('df-4b0e7b3b-6723-483f-9049-d0d33b3241e6')\"\n",
              "              title=\"Convert this dataframe to an interactive table.\"\n",
              "              style=\"display:none;\">\n",
              "        \n",
              "  <svg xmlns=\"http://www.w3.org/2000/svg\" height=\"24px\"viewBox=\"0 0 24 24\"\n",
              "       width=\"24px\">\n",
              "    <path d=\"M0 0h24v24H0V0z\" fill=\"none\"/>\n",
              "    <path d=\"M18.56 5.44l.94 2.06.94-2.06 2.06-.94-2.06-.94-.94-2.06-.94 2.06-2.06.94zm-11 1L8.5 8.5l.94-2.06 2.06-.94-2.06-.94L8.5 2.5l-.94 2.06-2.06.94zm10 10l.94 2.06.94-2.06 2.06-.94-2.06-.94-.94-2.06-.94 2.06-2.06.94z\"/><path d=\"M17.41 7.96l-1.37-1.37c-.4-.4-.92-.59-1.43-.59-.52 0-1.04.2-1.43.59L10.3 9.45l-7.72 7.72c-.78.78-.78 2.05 0 2.83L4 21.41c.39.39.9.59 1.41.59.51 0 1.02-.2 1.41-.59l7.78-7.78 2.81-2.81c.8-.78.8-2.07 0-2.86zM5.41 20L4 18.59l7.72-7.72 1.47 1.35L5.41 20z\"/>\n",
              "  </svg>\n",
              "      </button>\n",
              "      \n",
              "  <style>\n",
              "    .colab-df-container {\n",
              "      display:flex;\n",
              "      flex-wrap:wrap;\n",
              "      gap: 12px;\n",
              "    }\n",
              "\n",
              "    .colab-df-convert {\n",
              "      background-color: #E8F0FE;\n",
              "      border: none;\n",
              "      border-radius: 50%;\n",
              "      cursor: pointer;\n",
              "      display: none;\n",
              "      fill: #1967D2;\n",
              "      height: 32px;\n",
              "      padding: 0 0 0 0;\n",
              "      width: 32px;\n",
              "    }\n",
              "\n",
              "    .colab-df-convert:hover {\n",
              "      background-color: #E2EBFA;\n",
              "      box-shadow: 0px 1px 2px rgba(60, 64, 67, 0.3), 0px 1px 3px 1px rgba(60, 64, 67, 0.15);\n",
              "      fill: #174EA6;\n",
              "    }\n",
              "\n",
              "    [theme=dark] .colab-df-convert {\n",
              "      background-color: #3B4455;\n",
              "      fill: #D2E3FC;\n",
              "    }\n",
              "\n",
              "    [theme=dark] .colab-df-convert:hover {\n",
              "      background-color: #434B5C;\n",
              "      box-shadow: 0px 1px 3px 1px rgba(0, 0, 0, 0.15);\n",
              "      filter: drop-shadow(0px 1px 2px rgba(0, 0, 0, 0.3));\n",
              "      fill: #FFFFFF;\n",
              "    }\n",
              "  </style>\n",
              "\n",
              "      <script>\n",
              "        const buttonEl =\n",
              "          document.querySelector('#df-4b0e7b3b-6723-483f-9049-d0d33b3241e6 button.colab-df-convert');\n",
              "        buttonEl.style.display =\n",
              "          google.colab.kernel.accessAllowed ? 'block' : 'none';\n",
              "\n",
              "        async function convertToInteractive(key) {\n",
              "          const element = document.querySelector('#df-4b0e7b3b-6723-483f-9049-d0d33b3241e6');\n",
              "          const dataTable =\n",
              "            await google.colab.kernel.invokeFunction('convertToInteractive',\n",
              "                                                     [key], {});\n",
              "          if (!dataTable) return;\n",
              "\n",
              "          const docLinkHtml = 'Like what you see? Visit the ' +\n",
              "            '<a target=\"_blank\" href=https://colab.research.google.com/notebooks/data_table.ipynb>data table notebook</a>'\n",
              "            + ' to learn more about interactive tables.';\n",
              "          element.innerHTML = '';\n",
              "          dataTable['output_type'] = 'display_data';\n",
              "          await google.colab.output.renderOutput(dataTable, element);\n",
              "          const docLink = document.createElement('div');\n",
              "          docLink.innerHTML = docLinkHtml;\n",
              "          element.appendChild(docLink);\n",
              "        }\n",
              "      </script>\n",
              "    </div>\n",
              "  </div>\n",
              "  "
            ]
          },
          "metadata": {},
          "execution_count": 220
        }
      ]
    },
    {
      "cell_type": "code",
      "source": [
        "df.drop(columns=['Extracted_Text'], inplace=True)"
      ],
      "metadata": {
        "colab": {
          "base_uri": "https://localhost:8080/"
        },
        "id": "skqKFuVnhMNP",
        "outputId": "1b9ff75a-6879-4e31-d322-d6e629e21154"
      },
      "execution_count": 221,
      "outputs": [
        {
          "output_type": "stream",
          "name": "stderr",
          "text": [
            "<ipython-input-221-2f31c6ee9f7b>:1: SettingWithCopyWarning: \n",
            "A value is trying to be set on a copy of a slice from a DataFrame\n",
            "\n",
            "See the caveats in the documentation: https://pandas.pydata.org/pandas-docs/stable/user_guide/indexing.html#returning-a-view-versus-a-copy\n",
            "  df.drop(columns=['Extracted_Text'], inplace=True)\n"
          ]
        }
      ]
    },
    {
      "cell_type": "code",
      "source": [
        "df.head()"
      ],
      "metadata": {
        "colab": {
          "base_uri": "https://localhost:8080/",
          "height": 206
        },
        "id": "zBKmFHWGhS5S",
        "outputId": "f1f8af1e-6c98-4825-e54b-44374bb46325"
      },
      "execution_count": 222,
      "outputs": [
        {
          "output_type": "execute_result",
          "data": {
            "text/plain": [
              "           date  avl_bal\n",
              "150  2022-12-18  2030.64\n",
              "22   2023-04-13  4191.58\n",
              "23   2023-04-14  4111.58\n",
              "24   2023-04-14  4041.58\n",
              "25   2023-04-15  3050.58"
            ],
            "text/html": [
              "\n",
              "  <div id=\"df-f14dd3da-25fd-40d1-9a50-689e184189e1\">\n",
              "    <div class=\"colab-df-container\">\n",
              "      <div>\n",
              "<style scoped>\n",
              "    .dataframe tbody tr th:only-of-type {\n",
              "        vertical-align: middle;\n",
              "    }\n",
              "\n",
              "    .dataframe tbody tr th {\n",
              "        vertical-align: top;\n",
              "    }\n",
              "\n",
              "    .dataframe thead th {\n",
              "        text-align: right;\n",
              "    }\n",
              "</style>\n",
              "<table border=\"1\" class=\"dataframe\">\n",
              "  <thead>\n",
              "    <tr style=\"text-align: right;\">\n",
              "      <th></th>\n",
              "      <th>date</th>\n",
              "      <th>avl_bal</th>\n",
              "    </tr>\n",
              "  </thead>\n",
              "  <tbody>\n",
              "    <tr>\n",
              "      <th>150</th>\n",
              "      <td>2022-12-18</td>\n",
              "      <td>2030.64</td>\n",
              "    </tr>\n",
              "    <tr>\n",
              "      <th>22</th>\n",
              "      <td>2023-04-13</td>\n",
              "      <td>4191.58</td>\n",
              "    </tr>\n",
              "    <tr>\n",
              "      <th>23</th>\n",
              "      <td>2023-04-14</td>\n",
              "      <td>4111.58</td>\n",
              "    </tr>\n",
              "    <tr>\n",
              "      <th>24</th>\n",
              "      <td>2023-04-14</td>\n",
              "      <td>4041.58</td>\n",
              "    </tr>\n",
              "    <tr>\n",
              "      <th>25</th>\n",
              "      <td>2023-04-15</td>\n",
              "      <td>3050.58</td>\n",
              "    </tr>\n",
              "  </tbody>\n",
              "</table>\n",
              "</div>\n",
              "      <button class=\"colab-df-convert\" onclick=\"convertToInteractive('df-f14dd3da-25fd-40d1-9a50-689e184189e1')\"\n",
              "              title=\"Convert this dataframe to an interactive table.\"\n",
              "              style=\"display:none;\">\n",
              "        \n",
              "  <svg xmlns=\"http://www.w3.org/2000/svg\" height=\"24px\"viewBox=\"0 0 24 24\"\n",
              "       width=\"24px\">\n",
              "    <path d=\"M0 0h24v24H0V0z\" fill=\"none\"/>\n",
              "    <path d=\"M18.56 5.44l.94 2.06.94-2.06 2.06-.94-2.06-.94-.94-2.06-.94 2.06-2.06.94zm-11 1L8.5 8.5l.94-2.06 2.06-.94-2.06-.94L8.5 2.5l-.94 2.06-2.06.94zm10 10l.94 2.06.94-2.06 2.06-.94-2.06-.94-.94-2.06-.94 2.06-2.06.94z\"/><path d=\"M17.41 7.96l-1.37-1.37c-.4-.4-.92-.59-1.43-.59-.52 0-1.04.2-1.43.59L10.3 9.45l-7.72 7.72c-.78.78-.78 2.05 0 2.83L4 21.41c.39.39.9.59 1.41.59.51 0 1.02-.2 1.41-.59l7.78-7.78 2.81-2.81c.8-.78.8-2.07 0-2.86zM5.41 20L4 18.59l7.72-7.72 1.47 1.35L5.41 20z\"/>\n",
              "  </svg>\n",
              "      </button>\n",
              "      \n",
              "  <style>\n",
              "    .colab-df-container {\n",
              "      display:flex;\n",
              "      flex-wrap:wrap;\n",
              "      gap: 12px;\n",
              "    }\n",
              "\n",
              "    .colab-df-convert {\n",
              "      background-color: #E8F0FE;\n",
              "      border: none;\n",
              "      border-radius: 50%;\n",
              "      cursor: pointer;\n",
              "      display: none;\n",
              "      fill: #1967D2;\n",
              "      height: 32px;\n",
              "      padding: 0 0 0 0;\n",
              "      width: 32px;\n",
              "    }\n",
              "\n",
              "    .colab-df-convert:hover {\n",
              "      background-color: #E2EBFA;\n",
              "      box-shadow: 0px 1px 2px rgba(60, 64, 67, 0.3), 0px 1px 3px 1px rgba(60, 64, 67, 0.15);\n",
              "      fill: #174EA6;\n",
              "    }\n",
              "\n",
              "    [theme=dark] .colab-df-convert {\n",
              "      background-color: #3B4455;\n",
              "      fill: #D2E3FC;\n",
              "    }\n",
              "\n",
              "    [theme=dark] .colab-df-convert:hover {\n",
              "      background-color: #434B5C;\n",
              "      box-shadow: 0px 1px 3px 1px rgba(0, 0, 0, 0.15);\n",
              "      filter: drop-shadow(0px 1px 2px rgba(0, 0, 0, 0.3));\n",
              "      fill: #FFFFFF;\n",
              "    }\n",
              "  </style>\n",
              "\n",
              "      <script>\n",
              "        const buttonEl =\n",
              "          document.querySelector('#df-f14dd3da-25fd-40d1-9a50-689e184189e1 button.colab-df-convert');\n",
              "        buttonEl.style.display =\n",
              "          google.colab.kernel.accessAllowed ? 'block' : 'none';\n",
              "\n",
              "        async function convertToInteractive(key) {\n",
              "          const element = document.querySelector('#df-f14dd3da-25fd-40d1-9a50-689e184189e1');\n",
              "          const dataTable =\n",
              "            await google.colab.kernel.invokeFunction('convertToInteractive',\n",
              "                                                     [key], {});\n",
              "          if (!dataTable) return;\n",
              "\n",
              "          const docLinkHtml = 'Like what you see? Visit the ' +\n",
              "            '<a target=\"_blank\" href=https://colab.research.google.com/notebooks/data_table.ipynb>data table notebook</a>'\n",
              "            + ' to learn more about interactive tables.';\n",
              "          element.innerHTML = '';\n",
              "          dataTable['output_type'] = 'display_data';\n",
              "          await google.colab.output.renderOutput(dataTable, element);\n",
              "          const docLink = document.createElement('div');\n",
              "          docLink.innerHTML = docLinkHtml;\n",
              "          element.appendChild(docLink);\n",
              "        }\n",
              "      </script>\n",
              "    </div>\n",
              "  </div>\n",
              "  "
            ]
          },
          "metadata": {},
          "execution_count": 222
        }
      ]
    },
    {
      "cell_type": "code",
      "source": [
        "df.info()"
      ],
      "metadata": {
        "colab": {
          "base_uri": "https://localhost:8080/"
        },
        "id": "h5MmtTcniziv",
        "outputId": "0e677f02-3ade-4e9d-c6e0-3e0db3be998c"
      },
      "execution_count": 223,
      "outputs": [
        {
          "output_type": "stream",
          "name": "stdout",
          "text": [
            "<class 'pandas.core.frame.DataFrame'>\n",
            "Int64Index: 55 entries, 150 to 4\n",
            "Data columns (total 2 columns):\n",
            " #   Column   Non-Null Count  Dtype \n",
            "---  ------   --------------  ----- \n",
            " 0   date     55 non-null     object\n",
            " 1   avl_bal  55 non-null     object\n",
            "dtypes: object(2)\n",
            "memory usage: 1.3+ KB\n"
          ]
        }
      ]
    },
    {
      "cell_type": "code",
      "source": [
        "# Convert the column to float\n",
        "df['avl_bal'] = df['avl_bal'].astype(float)"
      ],
      "metadata": {
        "id": "GY4Z0ncfjaTX"
      },
      "execution_count": 224,
      "outputs": []
    },
    {
      "cell_type": "code",
      "source": [
        "# Convert the DateColumn to datetime\n",
        "df['date'] = pd.to_datetime(df['date'])\n",
        "\n",
        "# Plot the time series against the value column\n",
        "# Set the figure size\n",
        "plt.figure(figsize=(12, 6)) \n",
        "\n",
        "plt.plot(df['date'], df['avl_bal'])\n",
        "plt.xlabel('Date')\n",
        "plt.ylabel('Value')\n",
        "plt.title('Time Series Plot')\n",
        "plt.show()"
      ],
      "metadata": {
        "colab": {
          "base_uri": "https://localhost:8080/",
          "height": 564
        },
        "id": "-zH_8-s3jD2a",
        "outputId": "e2055184-3474-4fe2-98cc-64ba67f6025c"
      },
      "execution_count": 225,
      "outputs": [
        {
          "output_type": "display_data",
          "data": {
            "text/plain": [
              "<Figure size 1200x600 with 1 Axes>"
            ],
            "image/png": "[encoded data removed]"
          },
          "metadata": {}
        }
      ]
    },
    {
      "cell_type": "code",
      "source": [
        "df.describe()"
      ],
      "metadata": {
        "colab": {
          "base_uri": "https://localhost:8080/",
          "height": 300
        },
        "id": "1Vw_HPmNmb0W",
        "outputId": "5c71d052-fe6a-4279-9d70-7488b4b819bb"
      },
      "execution_count": 226,
      "outputs": [
        {
          "output_type": "execute_result",
          "data": {
            "text/plain": [
              "            avl_bal\n",
              "count     55.000000\n",
              "mean    2881.583636\n",
              "std     3750.238094\n",
              "min        0.800000\n",
              "25%      126.000000\n",
              "50%      864.320000\n",
              "75%     4076.580000\n",
              "max    12020.800000"
            ],
            "text/html": [
              "\n",
              "  <div id=\"df-85e3f6a0-2895-4879-ba71-68f1e966f144\">\n",
              "    <div class=\"colab-df-container\">\n",
              "      <div>\n",
              "<style scoped>\n",
              "    .dataframe tbody tr th:only-of-type {\n",
              "        vertical-align: middle;\n",
              "    }\n",
              "\n",
              "    .dataframe tbody tr th {\n",
              "        vertical-align: top;\n",
              "    }\n",
              "\n",
              "    .dataframe thead th {\n",
              "        text-align: right;\n",
              "    }\n",
              "</style>\n",
              "<table border=\"1\" class=\"dataframe\">\n",
              "  <thead>\n",
              "    <tr style=\"text-align: right;\">\n",
              "      <th></th>\n",
              "      <th>avl_bal</th>\n",
              "    </tr>\n",
              "  </thead>\n",
              "  <tbody>\n",
              "    <tr>\n",
              "      <th>count</th>\n",
              "      <td>55.000000</td>\n",
              "    </tr>\n",
              "    <tr>\n",
              "      <th>mean</th>\n",
              "      <td>2881.583636</td>\n",
              "    </tr>\n",
              "    <tr>\n",
              "      <th>std</th>\n",
              "      <td>3750.238094</td>\n",
              "    </tr>\n",
              "    <tr>\n",
              "      <th>min</th>\n",
              "      <td>0.800000</td>\n",
              "    </tr>\n",
              "    <tr>\n",
              "      <th>25%</th>\n",
              "      <td>126.000000</td>\n",
              "    </tr>\n",
              "    <tr>\n",
              "      <th>50%</th>\n",
              "      <td>864.320000</td>\n",
              "    </tr>\n",
              "    <tr>\n",
              "      <th>75%</th>\n",
              "      <td>4076.580000</td>\n",
              "    </tr>\n",
              "    <tr>\n",
              "      <th>max</th>\n",
              "      <td>12020.800000</td>\n",
              "    </tr>\n",
              "  </tbody>\n",
              "</table>\n",
              "</div>\n",
              "      <button class=\"colab-df-convert\" onclick=\"convertToInteractive('df-85e3f6a0-2895-4879-ba71-68f1e966f144')\"\n",
              "              title=\"Convert this dataframe to an interactive table.\"\n",
              "              style=\"display:none;\">\n",
              "        \n",
              "  <svg xmlns=\"http://www.w3.org/2000/svg\" height=\"24px\"viewBox=\"0 0 24 24\"\n",
              "       width=\"24px\">\n",
              "    <path d=\"M0 0h24v24H0V0z\" fill=\"none\"/>\n",
              "    <path d=\"M18.56 5.44l.94 2.06.94-2.06 2.06-.94-2.06-.94-.94-2.06-.94 2.06-2.06.94zm-11 1L8.5 8.5l.94-2.06 2.06-.94-2.06-.94L8.5 2.5l-.94 2.06-2.06.94zm10 10l.94 2.06.94-2.06 2.06-.94-2.06-.94-.94-2.06-.94 2.06-2.06.94z\"/><path d=\"M17.41 7.96l-1.37-1.37c-.4-.4-.92-.59-1.43-.59-.52 0-1.04.2-1.43.59L10.3 9.45l-7.72 7.72c-.78.78-.78 2.05 0 2.83L4 21.41c.39.39.9.59 1.41.59.51 0 1.02-.2 1.41-.59l7.78-7.78 2.81-2.81c.8-.78.8-2.07 0-2.86zM5.41 20L4 18.59l7.72-7.72 1.47 1.35L5.41 20z\"/>\n",
              "  </svg>\n",
              "      </button>\n",
              "      \n",
              "  <style>\n",
              "    .colab-df-container {\n",
              "      display:flex;\n",
              "      flex-wrap:wrap;\n",
              "      gap: 12px;\n",
              "    }\n",
              "\n",
              "    .colab-df-convert {\n",
              "      background-color: #E8F0FE;\n",
              "      border: none;\n",
              "      border-radius: 50%;\n",
              "      cursor: pointer;\n",
              "      display: none;\n",
              "      fill: #1967D2;\n",
              "      height: 32px;\n",
              "      padding: 0 0 0 0;\n",
              "      width: 32px;\n",
              "    }\n",
              "\n",
              "    .colab-df-convert:hover {\n",
              "      background-color: #E2EBFA;\n",
              "      box-shadow: 0px 1px 2px rgba(60, 64, 67, 0.3), 0px 1px 3px 1px rgba(60, 64, 67, 0.15);\n",
              "      fill: #174EA6;\n",
              "    }\n",
              "\n",
              "    [theme=dark] .colab-df-convert {\n",
              "      background-color: #3B4455;\n",
              "      fill: #D2E3FC;\n",
              "    }\n",
              "\n",
              "    [theme=dark] .colab-df-convert:hover {\n",
              "      background-color: #434B5C;\n",
              "      box-shadow: 0px 1px 3px 1px rgba(0, 0, 0, 0.15);\n",
              "      filter: drop-shadow(0px 1px 2px rgba(0, 0, 0, 0.3));\n",
              "      fill: #FFFFFF;\n",
              "    }\n",
              "  </style>\n",
              "\n",
              "      <script>\n",
              "        const buttonEl =\n",
              "          document.querySelector('#df-85e3f6a0-2895-4879-ba71-68f1e966f144 button.colab-df-convert');\n",
              "        buttonEl.style.display =\n",
              "          google.colab.kernel.accessAllowed ? 'block' : 'none';\n",
              "\n",
              "        async function convertToInteractive(key) {\n",
              "          const element = document.querySelector('#df-85e3f6a0-2895-4879-ba71-68f1e966f144');\n",
              "          const dataTable =\n",
              "            await google.colab.kernel.invokeFunction('convertToInteractive',\n",
              "                                                     [key], {});\n",
              "          if (!dataTable) return;\n",
              "\n",
              "          const docLinkHtml = 'Like what you see? Visit the ' +\n",
              "            '<a target=\"_blank\" href=https://colab.research.google.com/notebooks/data_table.ipynb>data table notebook</a>'\n",
              "            + ' to learn more about interactive tables.';\n",
              "          element.innerHTML = '';\n",
              "          dataTable['output_type'] = 'display_data';\n",
              "          await google.colab.output.renderOutput(dataTable, element);\n",
              "          const docLink = document.createElement('div');\n",
              "          docLink.innerHTML = docLinkHtml;\n",
              "          element.appendChild(docLink);\n",
              "        }\n",
              "      </script>\n",
              "    </div>\n",
              "  </div>\n",
              "  "
            ]
          },
          "metadata": {},
          "execution_count": 226
        }
      ]
    },
    {
      "cell_type": "code",
      "source": [
        "df.to_csv('shiv sms.csv')"
      ],
      "metadata": {
        "id": "oghpbRVmiBc1"
      },
      "execution_count": 227,
      "outputs": []
    },
    {
      "cell_type": "markdown",
      "source": [
        "Since transaction of december is making chart very confusing the actual image would be clear after removing that from the dataframe.\n"
      ],
      "metadata": {
        "id": "b82kBo7Am65-"
      }
    },
    {
      "cell_type": "code",
      "source": [
        "# Remove the first row\n",
        "df = df.iloc[1:]"
      ],
      "metadata": {
        "id": "SlZmbAGkl85i"
      },
      "execution_count": 228,
      "outputs": []
    },
    {
      "cell_type": "code",
      "source": [
        "# Convert the DateColumn to datetime\n",
        "df['date'] = pd.to_datetime(df['date'])\n",
        "\n",
        "# Plot the time series against the value column\n",
        "# Set the figure size\n",
        "plt.figure(figsize=(11.5, 4.5)) \n",
        "# Plot the time series with highlighted data points\n",
        "#plt.plot(df.index, df['Value'],)\n",
        "\n",
        "plt.plot(df['date'], df['avl_bal'], marker='o', linestyle='dashed', color='blue')\n",
        "plt.xlabel('Date')\n",
        "plt.ylabel('Amount balance')\n",
        "plt.title('Time Series Plot for 43 days avialable balance for Shiv (Office boy)')\n",
        "plt.show()"
      ],
      "metadata": {
        "colab": {
          "base_uri": "https://localhost:8080/",
          "height": 558
        },
        "id": "rEf6aSs9mADt",
        "outputId": "ba8a86f4-2a39-4b44-e21e-ab602ffaec6c"
      },
      "execution_count": 229,
      "outputs": [
        {
          "output_type": "stream",
          "name": "stderr",
          "text": [
            "<ipython-input-229-6a38981beec5>:2: SettingWithCopyWarning: \n",
            "A value is trying to be set on a copy of a slice from a DataFrame.\n",
            "Try using .loc[row_indexer,col_indexer] = value instead\n",
            "\n",
            "See the caveats in the documentation: https://pandas.pydata.org/pandas-docs/stable/user_guide/indexing.html#returning-a-view-versus-a-copy\n",
            "  df['date'] = pd.to_datetime(df['date'])\n"
          ]
        },
        {
          "output_type": "display_data",
          "data": {
            "text/plain": [
              "<Figure size 1150x450 with 1 Axes>"
            ],
            "image/png": "[encoded data removed]"
          },
          "metadata": {}
        }
      ]
    },
    {
      "cell_type": "code",
      "source": [
        "# Calculate and display summary statistics with all percentiles\n",
        "percentiles = [0.1, 0.25, 0.5,0.55,0.6,0.65,0.7, 0.75,0.8,0.85, 0.9,1]\n",
        "summary=df['avl_bal'].describe(percentiles=percentiles)\n",
        "sum_df = pd.DataFrame(summary).T\n",
        "sum_df"
      ],
      "metadata": {
        "colab": {
          "base_uri": "https://localhost:8080/",
          "height": 145
        },
        "id": "nRG6hphDnRNf",
        "outputId": "fc76e480-e8c8-42c1-8485-d585cf4bba12"
      },
      "execution_count": 230,
      "outputs": [
        {
          "output_type": "execute_result",
          "data": {
            "text/plain": [
              "         count         mean          std  min     10%    25%     50%     55%  \\\n",
              "avl_bal   54.0  2897.341852  3783.613917  0.8  14.998  120.9  787.39  2003.8   \n",
              "\n",
              "             60%      65%       70%      75%     80%      85%     90%  \\\n",
              "avl_bal  2420.32  2669.58  2779.878  4094.08  5757.8  8214.15  9936.5   \n",
              "\n",
              "            100%      max  \n",
              "avl_bal  12020.8  12020.8  "
            ],
            "text/html": [
              "\n",
              "  <div id=\"df-905e900e-dbff-442b-983d-231cc198ecf5\">\n",
              "    <div class=\"colab-df-container\">\n",
              "      <div>\n",
              "<style scoped>\n",
              "    .dataframe tbody tr th:only-of-type {\n",
              "        vertical-align: middle;\n",
              "    }\n",
              "\n",
              "    .dataframe tbody tr th {\n",
              "        vertical-align: top;\n",
              "    }\n",
              "\n",
              "    .dataframe thead th {\n",
              "        text-align: right;\n",
              "    }\n",
              "</style>\n",
              "<table border=\"1\" class=\"dataframe\">\n",
              "  <thead>\n",
              "    <tr style=\"text-align: right;\">\n",
              "      <th></th>\n",
              "      <th>count</th>\n",
              "      <th>mean</th>\n",
              "      <th>std</th>\n",
              "      <th>min</th>\n",
              "      <th>10%</th>\n",
              "      <th>25%</th>\n",
              "      <th>50%</th>\n",
              "      <th>55%</th>\n",
              "      <th>60%</th>\n",
              "      <th>65%</th>\n",
              "      <th>70%</th>\n",
              "      <th>75%</th>\n",
              "      <th>80%</th>\n",
              "      <th>85%</th>\n",
              "      <th>90%</th>\n",
              "      <th>100%</th>\n",
              "      <th>max</th>\n",
              "    </tr>\n",
              "  </thead>\n",
              "  <tbody>\n",
              "    <tr>\n",
              "      <th>avl_bal</th>\n",
              "      <td>54.0</td>\n",
              "      <td>2897.341852</td>\n",
              "      <td>3783.613917</td>\n",
              "      <td>0.8</td>\n",
              "      <td>14.998</td>\n",
              "      <td>120.9</td>\n",
              "      <td>787.39</td>\n",
              "      <td>2003.8</td>\n",
              "      <td>2420.32</td>\n",
              "      <td>2669.58</td>\n",
              "      <td>2779.878</td>\n",
              "      <td>4094.08</td>\n",
              "      <td>5757.8</td>\n",
              "      <td>8214.15</td>\n",
              "      <td>9936.5</td>\n",
              "      <td>12020.8</td>\n",
              "      <td>12020.8</td>\n",
              "    </tr>\n",
              "  </tbody>\n",
              "</table>\n",
              "</div>\n",
              "      <button class=\"colab-df-convert\" onclick=\"convertToInteractive('df-905e900e-dbff-442b-983d-231cc198ecf5')\"\n",
              "              title=\"Convert this dataframe to an interactive table.\"\n",
              "              style=\"display:none;\">\n",
              "        \n",
              "  <svg xmlns=\"http://www.w3.org/2000/svg\" height=\"24px\"viewBox=\"0 0 24 24\"\n",
              "       width=\"24px\">\n",
              "    <path d=\"M0 0h24v24H0V0z\" fill=\"none\"/>\n",
              "    <path d=\"M18.56 5.44l.94 2.06.94-2.06 2.06-.94-2.06-.94-.94-2.06-.94 2.06-2.06.94zm-11 1L8.5 8.5l.94-2.06 2.06-.94-2.06-.94L8.5 2.5l-.94 2.06-2.06.94zm10 10l.94 2.06.94-2.06 2.06-.94-2.06-.94-.94-2.06-.94 2.06-2.06.94z\"/><path d=\"M17.41 7.96l-1.37-1.37c-.4-.4-.92-.59-1.43-.59-.52 0-1.04.2-1.43.59L10.3 9.45l-7.72 7.72c-.78.78-.78 2.05 0 2.83L4 21.41c.39.39.9.59 1.41.59.51 0 1.02-.2 1.41-.59l7.78-7.78 2.81-2.81c.8-.78.8-2.07 0-2.86zM5.41 20L4 18.59l7.72-7.72 1.47 1.35L5.41 20z\"/>\n",
              "  </svg>\n",
              "      </button>\n",
              "      \n",
              "  <style>\n",
              "    .colab-df-container {\n",
              "      display:flex;\n",
              "      flex-wrap:wrap;\n",
              "      gap: 12px;\n",
              "    }\n",
              "\n",
              "    .colab-df-convert {\n",
              "      background-color: #E8F0FE;\n",
              "      border: none;\n",
              "      border-radius: 50%;\n",
              "      cursor: pointer;\n",
              "      display: none;\n",
              "      fill: #1967D2;\n",
              "      height: 32px;\n",
              "      padding: 0 0 0 0;\n",
              "      width: 32px;\n",
              "    }\n",
              "\n",
              "    .colab-df-convert:hover {\n",
              "      background-color: #E2EBFA;\n",
              "      box-shadow: 0px 1px 2px rgba(60, 64, 67, 0.3), 0px 1px 3px 1px rgba(60, 64, 67, 0.15);\n",
              "      fill: #174EA6;\n",
              "    }\n",
              "\n",
              "    [theme=dark] .colab-df-convert {\n",
              "      background-color: #3B4455;\n",
              "      fill: #D2E3FC;\n",
              "    }\n",
              "\n",
              "    [theme=dark] .colab-df-convert:hover {\n",
              "      background-color: #434B5C;\n",
              "      box-shadow: 0px 1px 3px 1px rgba(0, 0, 0, 0.15);\n",
              "      filter: drop-shadow(0px 1px 2px rgba(0, 0, 0, 0.3));\n",
              "      fill: #FFFFFF;\n",
              "    }\n",
              "  </style>\n",
              "\n",
              "      <script>\n",
              "        const buttonEl =\n",
              "          document.querySelector('#df-905e900e-dbff-442b-983d-231cc198ecf5 button.colab-df-convert');\n",
              "        buttonEl.style.display =\n",
              "          google.colab.kernel.accessAllowed ? 'block' : 'none';\n",
              "\n",
              "        async function convertToInteractive(key) {\n",
              "          const element = document.querySelector('#df-905e900e-dbff-442b-983d-231cc198ecf5');\n",
              "          const dataTable =\n",
              "            await google.colab.kernel.invokeFunction('convertToInteractive',\n",
              "                                                     [key], {});\n",
              "          if (!dataTable) return;\n",
              "\n",
              "          const docLinkHtml = 'Like what you see? Visit the ' +\n",
              "            '<a target=\"_blank\" href=https://colab.research.google.com/notebooks/data_table.ipynb>data table notebook</a>'\n",
              "            + ' to learn more about interactive tables.';\n",
              "          element.innerHTML = '';\n",
              "          dataTable['output_type'] = 'display_data';\n",
              "          await google.colab.output.renderOutput(dataTable, element);\n",
              "          const docLink = document.createElement('div');\n",
              "          docLink.innerHTML = docLinkHtml;\n",
              "          element.appendChild(docLink);\n",
              "        }\n",
              "      </script>\n",
              "    </div>\n",
              "  </div>\n",
              "  "
            ]
          },
          "metadata": {},
          "execution_count": 230
        }
      ]
    },
    {
      "cell_type": "code",
      "source": [
        "type(summary) "
      ],
      "metadata": {
        "colab": {
          "base_uri": "https://localhost:8080/"
        },
        "id": "nSGYCwisCxCh",
        "outputId": "95e2ad34-4cdf-45de-fab3-9e5447b4d2e1"
      },
      "execution_count": 231,
      "outputs": [
        {
          "output_type": "execute_result",
          "data": {
            "text/plain": [
              "pandas.core.series.Series"
            ]
          },
          "metadata": {},
          "execution_count": 231
        }
      ]
    },
    {
      "cell_type": "code",
      "source": [
        "#print('This transactional data is for',df.date.max()-df.date.min(), ' number of days')"
      ],
      "metadata": {
        "id": "Zb5eCniZnynh"
      },
      "execution_count": 232,
      "outputs": []
    },
    {
      "cell_type": "code",
      "source": [
        "df.date.min()"
      ],
      "metadata": {
        "colab": {
          "base_uri": "https://localhost:8080/"
        },
        "id": "Nr0awQOCnqiA",
        "outputId": "3ce001ce-6468-4a12-bc0e-013a7b418735"
      },
      "execution_count": 233,
      "outputs": [
        {
          "output_type": "execute_result",
          "data": {
            "text/plain": [
              "Timestamp('2023-04-13 00:00:00')"
            ]
          },
          "metadata": {},
          "execution_count": 233
        }
      ]
    },
    {
      "cell_type": "code",
      "source": [
        "df.date.max()"
      ],
      "metadata": {
        "colab": {
          "base_uri": "https://localhost:8080/"
        },
        "id": "XeN1FttynwZc",
        "outputId": "8749cb8b-ede3-4a37-8cee-0009736c0cc5"
      },
      "execution_count": 234,
      "outputs": [
        {
          "output_type": "execute_result",
          "data": {
            "text/plain": [
              "Timestamp('2023-05-26 00:00:00')"
            ]
          },
          "metadata": {},
          "execution_count": 234
        }
      ]
    },
    {
      "cell_type": "code",
      "source": [
        "df.to_csv('shiv sms1.csv')"
      ],
      "metadata": {
        "id": "aYObnwFcnJy3"
      },
      "execution_count": 235,
      "outputs": []
    },
    {
      "cell_type": "code",
      "source": [
        "#for task A and C, for task B unable to parse all SMSs because of different addresses and text structure."
      ],
      "metadata": {
        "colab": {
          "base_uri": "https://localhost:8080/",
          "height": 134
        },
        "id": "dmW_1RwgoGBf",
        "outputId": "b24a86dc-c524-44ae-93dc-1375d12d37f6"
      },
      "execution_count": 236,
      "outputs": [
        {
          "output_type": "error",
          "ename": "SyntaxError",
          "evalue": "ignored",
          "traceback": [
            "\u001b[0;36m  File \u001b[0;32m\"<ipython-input-236-60f6675418d6>\"\u001b[0;36m, line \u001b[0;32m1\u001b[0m\n\u001b[0;31m    for task A and C, for task B unable to parse all SMSs because of different addresses and text structure.\u001b[0m\n\u001b[0m             ^\u001b[0m\n\u001b[0;31mSyntaxError\u001b[0m\u001b[0;31m:\u001b[0m invalid syntax\n"
          ]
        }
      ]
    }
  ]
}